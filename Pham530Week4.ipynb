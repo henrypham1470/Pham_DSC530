{
 "cells": [
  {
   "cell_type": "markdown",
   "id": "ac3daeff",
   "metadata": {},
   "source": [
    "# Week 4 Assignment\n",
    "# Henry Pham\n",
    "# Department of Data Science, Bellevue University\n",
    "# DSC530-T301\n",
    "# Professor: Cary Jim\n",
    "# Assignment Due Date: 2023-04-09"
   ]
  },
  {
   "cell_type": "code",
   "execution_count": 21,
   "id": "88efa301",
   "metadata": {},
   "outputs": [],
   "source": [
    "#----Chapter03----"
   ]
  },
  {
   "cell_type": "code",
   "execution_count": 22,
   "id": "d04b7412",
   "metadata": {},
   "outputs": [],
   "source": [
    "# import library os, basename and exists\n",
    "from os.path import basename, exists\n",
    "# Create a function download to load the thinkstats2.py and thinkploy.py from github\n",
    "def download(url):\n",
    "    # Create a variable filename and assign it to the base url parameter\n",
    "    filename = basename(url)\n",
    "    if not exists(filename):\n",
    "        # if filename is not existed, then import urllib and urlretrieve\n",
    "        from urllib.request import urlretrieve\n",
    "        # Create a local variable and assign url+filename to local\n",
    "        local, _ = urlretrieve(url, filename)\n",
    "        print(\"Downloaded \" + local)\n",
    "\n",
    "# Call the download function to download thinkstats2,thinkplot, nsfg, first, 2002FemResp.dct, \n",
    "# 2002FemResp.dat.gz, 2002FemPreg.dct, 2002FemPreg.dat.gz, relay, and Apr25_27thAn_set1.shtml to DSC530 folder\n",
    "download(\"https://github.com/AllenDowney/ThinkStats2/raw/master/code/thinkstats2.py\")\n",
    "download(\"https://github.com/AllenDowney/ThinkStats2/raw/master/code/thinkplot.py\")\n",
    "download(\"https://github.com/AllenDowney/ThinkStats2/raw/master/code/nsfg.py\")\n",
    "download(\"https://github.com/AllenDowney/ThinkStats2/raw/master/code/first.py\")\n",
    "download(\"https://github.com/AllenDowney/ThinkStats2/raw/master/code/2002FemResp.dct\")\n",
    "download(\"https://github.com/AllenDowney/ThinkStats2/raw/master/code/2002FemResp.dat.gz\")\n",
    "\n",
    "download(\"https://github.com/AllenDowney/ThinkStats2/raw/master/code/2002FemPreg.dct\")\n",
    "download(\"https://github.com/AllenDowney/ThinkStats2/raw/master/code/2002FemPreg.dat.gz\")\n",
    "\n",
    "download(\"https://github.com/AllenDowney/ThinkStats2/raw/master/code/relay.py\")\n",
    "download(\"https://github.com/AllenDowney/ThinkStats2/raw/master/code/Apr25_27thAn_set1.shtml\")"
   ]
  },
  {
   "cell_type": "code",
   "execution_count": 23,
   "id": "11215113",
   "metadata": {},
   "outputs": [],
   "source": [
    "# Exercise 3-1"
   ]
  },
  {
   "cell_type": "markdown",
   "id": "b1dce167",
   "metadata": {},
   "source": [
    "# Use the NSFG respondent variable `numkdhh` to construct the actual distribution for the number of children under 18 in the respondents' households."
   ]
  },
  {
   "cell_type": "code",
   "execution_count": 24,
   "id": "75457131",
   "metadata": {},
   "outputs": [
    {
     "name": "stdout",
     "output_type": "stream",
     "text": [
      "0: 3563\n",
      "1: 1636\n",
      "2: 1500\n",
      "3: 666\n",
      "4: 196\n",
      "5: 82\n"
     ]
    }
   ],
   "source": [
    "# Import few libraries\n",
    "import numpy as np\n",
    "import nsfg\n",
    "import first\n",
    "import thinkstats2\n",
    "import thinkplot\n",
    "\n",
    "# Create a variable resp and read in the respondent data using the ReadFemResp() function.\n",
    "resp = nsfg.ReadFemResp()\n",
    "\n",
    "# Create a histogram of the number of children under 18 in the household\n",
    "hist = thinkstats2.Hist(resp['numkdhh'], label='numkdhh')\n",
    "\n",
    "# Print the histogram values\n",
    "for val, freq in hist.Items():\n",
    "    print(f\"{val}: {freq}\")\n"
   ]
  },
  {
   "cell_type": "markdown",
   "id": "21b8b023",
   "metadata": {},
   "source": [
    "# Now compute the biased distribution we would see if we surveyed the children and asked them how many children under 18 (including themselves) are in their household."
   ]
  },
  {
   "cell_type": "code",
   "execution_count": 38,
   "id": "c3fa0af8",
   "metadata": {},
   "outputs": [
    {
     "name": "stdout",
     "output_type": "stream",
     "text": [
      "0: 0.0\n",
      "1: 0.20899335717935616\n",
      "2: 0.38323965252938175\n",
      "3: 0.25523760858456823\n",
      "4: 0.10015329586101177\n",
      "5: 0.052376085845682166\n"
     ]
    }
   ],
   "source": [
    "import nsfg\n",
    "import thinkstats2\n",
    "\n",
    "resp = nsfg.ReadFemResp()\n",
    "\n",
    "# Create a PMF of the actual distribution of the number of children under 18 in the household.\n",
    "# We pass the numkdhh column of the respondent DataFrame as the data for the PMF, \n",
    "# and we provide a label for the PMF using the label argument.\n",
    "\n",
    "pmf_actual = thinkstats2.Pmf(resp['numkdhh'], label='actual')\n",
    "\n",
    "# Create an empty dictionary to store the biased PMF\n",
    "biased_pmf_dict = {}\n",
    "\n",
    "# For each value in the actual PMF, multiply by the value to get the biased PMF\n",
    "for val, freq in pmf_actual.Items():\n",
    "    biased_pmf_dict[val] = val * freq\n",
    "\n",
    "# Create a PMF of the biased distribution\n",
    "pmf_biased = thinkstats2.Pmf(biased_pmf_dict, label='biased')\n",
    "\n",
    "# Print the PMF values\n",
    "for val, freq in pmf_biased.Items():\n",
    "    print(f\"{val}: {freq}\")"
   ]
  },
  {
   "cell_type": "markdown",
   "id": "1b813c04",
   "metadata": {},
   "source": [
    "# Plot the actual and biased distributions, and compute their means"
   ]
  },
  {
   "cell_type": "code",
   "execution_count": 26,
   "id": "02263711",
   "metadata": {},
   "outputs": [
    {
     "data": {
      "image/png": "[encoded data removed]",
      "text/plain": [
       "<Figure size 640x480 with 1 Axes>"
      ]
     },
     "metadata": {},
     "output_type": "display_data"
    },
    {
     "name": "stdout",
     "output_type": "stream",
     "text": [
      "The mean of the actual distribution is 1.02.\n",
      "The mean of the biased distribution is 2.40.\n"
     ]
    },
    {
     "data": {
      "text/plain": [
       "<Figure size 800x600 with 0 Axes>"
      ]
     },
     "metadata": {},
     "output_type": "display_data"
    }
   ],
   "source": [
    "import nsfg\n",
    "import thinkstats2\n",
    "import thinkplot\n",
    "\n",
    "resp = nsfg.ReadFemResp()\n",
    "\n",
    "# Create a PMF of the actual distribution\n",
    "pmf_actual = thinkstats2.Pmf(resp['numkdhh'], label='actual')\n",
    "\n",
    "# Create an empty dictionary to store the biased PMF\n",
    "biased_pmf_dict = {}\n",
    "\n",
    "# For each value in the actual PMF, multiply by the value to get the biased PMF\n",
    "for val, freq in pmf_actual.Items():\n",
    "    biased_pmf_dict[val] = val * freq\n",
    "\n",
    "# Create a PMF of the biased distribution\n",
    "pmf_biased = thinkstats2.Pmf(biased_pmf_dict, label='biased')\n",
    "\n",
    "# Plot the PMFs\n",
    "thinkplot.Pmfs([pmf_actual, pmf_biased])\n",
    "thinkplot.Show(xlabel='Number of children under 18', ylabel='PMF')\n",
    "\n",
    "# Compute and print the means\n",
    "mean_actual = pmf_actual.Mean()\n",
    "mean_biased = pmf_biased.Mean()\n",
    "\n",
    "print(f\"The mean of the actual distribution is {mean_actual:.2f}.\")\n",
    "print(f\"The mean of the biased distribution is {mean_biased:.2f}.\")"
   ]
  },
  {
   "cell_type": "code",
   "execution_count": 27,
   "id": "86b5712a",
   "metadata": {},
   "outputs": [],
   "source": [
    "# Exercise 3-2"
   ]
  },
  {
   "cell_type": "markdown",
   "id": "06a2c29c",
   "metadata": {},
   "source": [
    "# We computed the mean of a sample by adding up the elements and dividing by n. If you are given a PMF, you can still compute the mean, but the process is slightly different: %\n",
    "𝑥¯=∑𝑖𝑝𝑖 𝑥𝑖\n",
    " \n",
    "% where the  𝑥𝑖\n",
    "  are the unique values in the PMF and  𝑝𝑖=𝑃𝑀𝐹(𝑥𝑖)\n",
    " . Similarly, you can compute variance like this: %\n",
    "𝑆2=∑𝑖𝑝𝑖 (𝑥𝑖−𝑥¯)2\n",
    " \n",
    "% Write functions called PmfMean and PmfVar that take a Pmf object and compute the mean and variance. To test these methods, check that they are consistent with the methods Mean and Var provided by Pmf."
   ]
  },
  {
   "cell_type": "code",
   "execution_count": 28,
   "id": "7d94dcd8",
   "metadata": {},
   "outputs": [],
   "source": [
    "# Create a function PmfMean with an argument of pmf.\n",
    "def PmfMean(pmf):\n",
    "    # return float mean \n",
    "    return sum(p * x for x, p in pmf.Items())"
   ]
  },
  {
   "cell_type": "code",
   "execution_count": 29,
   "id": "1047fe7b",
   "metadata": {},
   "outputs": [],
   "source": [
    "# Create a functioni PmfVar with arguments of pmf & mu\n",
    "def PmfVar(pmf, mu=None):\n",
    "    # compute the mean if mu is voided\n",
    "    if mu is None:\n",
    "        mu = PmfMean(pmf)\n",
    "    # return float variance\n",
    "    return sum(p * (x - mu) ** 2 for x, p in pmf.Items())"
   ]
  },
  {
   "cell_type": "code",
   "execution_count": 30,
   "id": "1d2e1f50",
   "metadata": {},
   "outputs": [],
   "source": [
    "#----Chapter04----"
   ]
  },
  {
   "cell_type": "code",
   "execution_count": 31,
   "id": "dfabb389",
   "metadata": {},
   "outputs": [],
   "source": [
    "# Exercise 4-1"
   ]
  },
  {
   "cell_type": "markdown",
   "id": "472f5f59",
   "metadata": {},
   "source": [
    "# How much did you weigh at birth? If you don’t know, call your mother or someone else who knows. Using the NSFG data (all live births), compute the distribution of birth weights and use it to find your percentile rank. If you were a first baby, find your percentile rank in the distribution for first babies."
   ]
  },
  {
   "cell_type": "code",
   "execution_count": 33,
   "id": "c6f786a9",
   "metadata": {},
   "outputs": [
    {
     "name": "stdout",
     "output_type": "stream",
     "text": [
      "My percentile rank based on birth weight is 29.34%.\n"
     ]
    }
   ],
   "source": [
    "import nsfg\n",
    "import thinkstats2\n",
    "\n",
    "# Read in the NSFG data and select only the live births\n",
    "preg = nsfg.ReadFemPreg()\n",
    "live_births = preg[preg.outcome == 1]\n",
    "\n",
    "# Compute the distribution of birth weights\n",
    "pmf_birthwgt = thinkstats2.Pmf(live_births.totalwgt_lb, label='all')\n",
    "\n",
    "# Determine whether you were a first baby or not\n",
    "# change this to the birth order (1 if first baby, 2 or more otherwise)\n",
    "my_birthord = 1  \n",
    "first_babies = live_births[live_births.birthord == 1]\n",
    "others = live_births[live_births.birthord != 1]\n",
    "\n",
    "# Compute your percentile rank in the appropriate distribution\n",
    "# my_weight = 6.6 lbs\n",
    "my_weight = 6.6\n",
    "if my_birthord == 1:\n",
    "    cdf_first_babies = thinkstats2.Cdf(first_babies.totalwgt_lb)\n",
    "    percentile_rank = cdf_first_babies.PercentileRank(my_weight)\n",
    "else:\n",
    "    cdf_others = thinkstats2.Cdf(others.totalwgt_lb)\n",
    "    percentile_rank = cdf_others.PercentileRank(my_weight)\n",
    "\n",
    "print(f\"My percentile rank based on birth weight is {percentile_rank:.2f}%.\")"
   ]
  },
  {
   "cell_type": "code",
   "execution_count": 34,
   "id": "6b968efe",
   "metadata": {},
   "outputs": [],
   "source": [
    "# Exercise 4-2"
   ]
  },
  {
   "cell_type": "markdown",
   "id": "d98dd211",
   "metadata": {},
   "source": [
    "# The numbers generated by numpy.random.random are supposed to be uniform between 0 and 1; that is, every value in the range should have the same probability.\n",
    "\n",
    "Generate 1000 numbers from numpy.random.random and plot their PMF. What goes wrong?"
   ]
  },
  {
   "cell_type": "code",
   "execution_count": 35,
   "id": "364b9a71",
   "metadata": {},
   "outputs": [
    {
     "data": {
      "image/png": "[encoded data removed]",
      "text/plain": [
       "<Figure size 640x480 with 1 Axes>"
      ]
     },
     "metadata": {},
     "output_type": "display_data"
    },
    {
     "data": {
      "text/plain": [
       "<Figure size 800x600 with 0 Axes>"
      ]
     },
     "metadata": {},
     "output_type": "display_data"
    }
   ],
   "source": [
    "import numpy as np\n",
    "import thinkplot\n",
    "\n",
    "# Generate 1000 random numbers using numpy.random.random\n",
    "random_numbers = np.random.random(1000)\n",
    "\n",
    "# Plot the PMF of the random numbers\n",
    "pmf = thinkstats2.Pmf(random_numbers)\n",
    "thinkplot.Pmf(pmf)\n",
    "thinkplot.Show(xlabel='Value', ylabel='PMF')"
   ]
  },
  {
   "cell_type": "code",
   "execution_count": 36,
   "id": "c3acdd8b",
   "metadata": {},
   "outputs": [],
   "source": [
    "# When I run this code, I get a uniform distribution with a PMF of 1/1000 for each possible value between 0 and 1. \n",
    "# However, this is not a true PMF, as there are an infinite number of possible values in this range."
   ]
  },
  {
   "cell_type": "markdown",
   "id": "4a933459",
   "metadata": {},
   "source": [
    "# Plot the CDF. Is the distribution uniform?"
   ]
  },
  {
   "cell_type": "code",
   "execution_count": 37,
   "id": "8a39098f",
   "metadata": {},
   "outputs": [
    {
     "data": {
      "image/png": "[encoded data removed]",
      "text/plain": [
       "<Figure size 640x480 with 1 Axes>"
      ]
     },
     "metadata": {},
     "output_type": "display_data"
    },
    {
     "data": {
      "text/plain": [
       "<Figure size 800x600 with 0 Axes>"
      ]
     },
     "metadata": {},
     "output_type": "display_data"
    }
   ],
   "source": [
    "import numpy as np\n",
    "import thinkstats2\n",
    "import thinkplot\n",
    "\n",
    "# Generate 1000 random numbers using numpy.random.random\n",
    "random_numbers = np.random.random(1000)\n",
    "\n",
    "# Plot the CDF of the random numbers\n",
    "cdf = thinkstats2.Cdf(random_numbers)\n",
    "thinkplot.Cdf(cdf)\n",
    "thinkplot.Show(xlabel='Value', ylabel='CDF')"
   ]
  },
  {
   "cell_type": "code",
   "execution_count": 20,
   "id": "8e054425",
   "metadata": {},
   "outputs": [],
   "source": [
    "# When I run this code, I get a straight line with a slope of 1, indicating that the distribution is uniform. \n",
    "# The CDF shows that each value between 0 and 1 has an equal probability of being generated by numpy.random.random."
   ]
  }
 ],
 "metadata": {
  "kernelspec": {
   "display_name": "Python 3 (ipykernel)",
   "language": "python",
   "name": "python3"
  },
  "language_info": {
   "codemirror_mode": {
    "name": "ipython",
    "version": 3
   },
   "file_extension": ".py",
   "mimetype": "text/x-python",
   "name": "python",
   "nbconvert_exporter": "python",
   "pygments_lexer": "ipython3",
   "version": "3.9.13"
  }
 },
 "nbformat": 4,
 "nbformat_minor": 5
}
