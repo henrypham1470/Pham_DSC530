{
 "cells": [
  {
   "cell_type": "markdown",
   "id": "fa683ec9",
   "metadata": {},
   "source": [
    "# Week 2 Assignment\n",
    "# Henry Pham\n",
    "# Department of Data Science, Bellevue University\n",
    "# DSC530-T301\n",
    "# Professor: Cary Jim\n",
    "# Assignment Due Date: 2023-03-26"
   ]
  },
  {
   "cell_type": "markdown",
   "id": "c5004f60",
   "metadata": {},
   "source": [
    "--------"
   ]
  },
  {
   "cell_type": "markdown",
   "id": "e0d42450",
   "metadata": {},
   "source": [
    "# Display the text “Hello World! My name is ....\""
   ]
  },
  {
   "cell_type": "code",
   "execution_count": 13,
   "id": "0ea0eac8",
   "metadata": {},
   "outputs": [
    {
     "name": "stdout",
     "output_type": "stream",
     "text": [
      "Hello World! My name is Henry\n"
     ]
    }
   ],
   "source": [
    "# Create a variable name\n",
    "name = 'Henry'\n",
    "# Print out \n",
    "print('Hello World! My name is', name)"
   ]
  },
  {
   "cell_type": "markdown",
   "id": "ffddd6f1",
   "metadata": {},
   "source": [
    "# Add two numbers together"
   ]
  },
  {
   "cell_type": "code",
   "execution_count": 14,
   "id": "7c148c39",
   "metadata": {},
   "outputs": [
    {
     "name": "stdout",
     "output_type": "stream",
     "text": [
      "The sum of 30 and 50 is 80\n"
     ]
    }
   ],
   "source": [
    "# Create 2 variables and assign 2 values for a and b\n",
    "a = 30\n",
    "b = 50\n",
    "# Create a variable c and assign (a + b) for c\n",
    "c = a + b\n",
    "# Print out \n",
    "print('The sum of', a, 'and', b, 'is', c)"
   ]
  },
  {
   "cell_type": "markdown",
   "id": "c676fb36",
   "metadata": {},
   "source": [
    "# Subtract a number from another number"
   ]
  },
  {
   "cell_type": "code",
   "execution_count": 15,
   "id": "07cf42de",
   "metadata": {},
   "outputs": [
    {
     "name": "stdout",
     "output_type": "stream",
     "text": [
      "The difference of 40 and 90 is -50\n"
     ]
    }
   ],
   "source": [
    "# Create 2 variables and assign 2 values for x and y\n",
    "x = 40\n",
    "y = 90\n",
    "# Create a variable z and assign (x - y) for z\n",
    "z = x - y\n",
    "# Print out \n",
    "print('The difference of', x, 'and', y, 'is', z)"
   ]
  },
  {
   "cell_type": "markdown",
   "id": "795fbf93",
   "metadata": {},
   "source": [
    "# Multiply two numbers"
   ]
  },
  {
   "cell_type": "code",
   "execution_count": 16,
   "id": "448321d4",
   "metadata": {},
   "outputs": [
    {
     "name": "stdout",
     "output_type": "stream",
     "text": [
      "The product of 40 and 90 is 3600\n"
     ]
    }
   ],
   "source": [
    "# Create 2 variables and assign 2 values for d and e\n",
    "d = 40\n",
    "e = 90\n",
    "# Create a variable f and assign (x * y) for f\n",
    "f = d * e\n",
    "# Print out \n",
    "print('The product of', d, 'and', e, 'is', f)"
   ]
  },
  {
   "cell_type": "markdown",
   "id": "b7a5dff2",
   "metadata": {},
   "source": [
    "# Divide between two numbers"
   ]
  },
  {
   "cell_type": "code",
   "execution_count": 17,
   "id": "15cbfaa3",
   "metadata": {},
   "outputs": [
    {
     "name": "stdout",
     "output_type": "stream",
     "text": [
      "The division of 40 and 80 is 0.5\n"
     ]
    }
   ],
   "source": [
    "# Create 2 variables and assign 2 values for i and j\n",
    "i = 40\n",
    "j = 80\n",
    "# Create a variable k and assign (i / j) for k\n",
    "k = i / j\n",
    "# Print out \n",
    "print('The division of', i, 'and', j, 'is', k)"
   ]
  },
  {
   "cell_type": "markdown",
   "id": "f7db2644",
   "metadata": {},
   "source": [
    "# Concatenate two strings together"
   ]
  },
  {
   "cell_type": "code",
   "execution_count": 18,
   "id": "1888563c",
   "metadata": {},
   "outputs": [
    {
     "name": "stdout",
     "output_type": "stream",
     "text": [
      "Hello Python\n"
     ]
    }
   ],
   "source": [
    "# Create 2 variables and assign 2 strings for m and n\n",
    "m = 'Hello'\n",
    "n = 'Python'\n",
    "# Create a variable o and assign 2 strings for o\n",
    "o = m + \" \" + n\n",
    "# Print out \n",
    "print(o)"
   ]
  },
  {
   "cell_type": "markdown",
   "id": "ee82afeb",
   "metadata": {},
   "source": [
    "# Create a list of 4 items"
   ]
  },
  {
   "cell_type": "code",
   "execution_count": 19,
   "id": "9910d066",
   "metadata": {},
   "outputs": [
    {
     "name": "stdout",
     "output_type": "stream",
     "text": [
      "[100, 0.5, 'Hello', 'DSC530']\n"
     ]
    }
   ],
   "source": [
    "# Create a variable my_list\n",
    "my_list = [100,0.5,'Hello','DSC530']\n",
    "# Print out\n",
    "print(my_list)"
   ]
  },
  {
   "cell_type": "markdown",
   "id": "e29f08b7",
   "metadata": {},
   "source": [
    "# Append an item to your list"
   ]
  },
  {
   "cell_type": "code",
   "execution_count": 20,
   "id": "47084211",
   "metadata": {},
   "outputs": [
    {
     "name": "stdout",
     "output_type": "stream",
     "text": [
      "[100, 0.5, 'Hello', 'DSC530', 'How are you?']\n"
     ]
    }
   ],
   "source": [
    "my_list.append('How are you?')\n",
    "# Print out\n",
    "print(my_list)"
   ]
  },
  {
   "cell_type": "markdown",
   "id": "c989a530",
   "metadata": {},
   "source": [
    "# Create a tuple with 4 items"
   ]
  },
  {
   "cell_type": "code",
   "execution_count": 21,
   "id": "a997a11a",
   "metadata": {},
   "outputs": [
    {
     "name": "stdout",
     "output_type": "stream",
     "text": [
      "('Henry', 'Pham', 'Good boy', '86')\n"
     ]
    }
   ],
   "source": [
    "# Create a variable my_tuple\n",
    "my_tuple = ('Henry', 'Pham', 'Good boy', '86')\n",
    "# Print out\n",
    "print(my_tuple)"
   ]
  },
  {
   "cell_type": "code",
   "execution_count": null,
   "id": "dc98bd7c",
   "metadata": {},
   "outputs": [],
   "source": []
  }
 ],
 "metadata": {
  "kernelspec": {
   "display_name": "Python 3 (ipykernel)",
   "language": "python",
   "name": "python3"
  },
  "language_info": {
   "codemirror_mode": {
    "name": "ipython",
    "version": 3
   },
   "file_extension": ".py",
   "mimetype": "text/x-python",
   "name": "python",
   "nbconvert_exporter": "python",
   "pygments_lexer": "ipython3",
   "version": "3.9.13"
  }
 },
 "nbformat": 4,
 "nbformat_minor": 5
}
