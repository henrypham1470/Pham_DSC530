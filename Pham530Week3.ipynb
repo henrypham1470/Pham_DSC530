{
 "cells": [
  {
   "cell_type": "markdown",
   "id": "55f37ce8",
   "metadata": {},
   "source": [
    "# Week 3 Assignment\n",
    "# Henry Pham\n",
    "# Department of Data Science, Bellevue University\n",
    "# DSC530-T301\n",
    "# Professor: Cary Jim\n",
    "# Assignment Due Date: 2023-04-02"
   ]
  },
  {
   "cell_type": "code",
   "execution_count": 1,
   "id": "ba4174de",
   "metadata": {},
   "outputs": [],
   "source": [
    "#--------Chapter 01--------"
   ]
  },
  {
   "cell_type": "markdown",
   "id": "69af6a2a",
   "metadata": {},
   "source": [
    "# Select the birthord column, print the value counts, and compare to results published in the codebook"
   ]
  },
  {
   "cell_type": "code",
   "execution_count": 4,
   "id": "318452e5",
   "metadata": {},
   "outputs": [
    {
     "name": "stdout",
     "output_type": "stream",
     "text": [
      "Downloaded thinkstats2.py\n",
      "Downloaded thinkplot.py\n"
     ]
    }
   ],
   "source": [
    "# import library os, basename and exists\n",
    "from os.path import basename, exists\n",
    "# Create a function download to load the thinkstats2.py and thinkploy.py from github\n",
    "def download(url):\n",
    "    # Create a variable filename and assign it to the base url parameter\n",
    "    filename = basename(url)\n",
    "    if not exists(filename):\n",
    "        # if filename is not existed, then import urllib and urlretrieve\n",
    "        from urllib.request import urlretrieve\n",
    "        # Create a local variable and assign url+filename to local\n",
    "        local, _ = urlretrieve(url, filename)\n",
    "        print(\"Downloaded \" + local)\n",
    "\n",
    "# Call the download function to download thinkstats2 and thinkplot to DSC530 folder\n",
    "download(\"https://github.com/AllenDowney/ThinkStats2/raw/master/code/thinkstats2.py\")\n",
    "download(\"https://github.com/AllenDowney/ThinkStats2/raw/master/code/thinkplot.py\")"
   ]
  },
  {
   "cell_type": "code",
   "execution_count": 5,
   "id": "0042cbc4",
   "metadata": {},
   "outputs": [
    {
     "name": "stdout",
     "output_type": "stream",
     "text": [
      "Downloaded nsfg.py\n",
      "Downloaded 2002FemPreg.dct\n",
      "Downloaded 2002FemPreg.dat.gz\n"
     ]
    }
   ],
   "source": [
    "# Similarly, download nsfg.py, 2002FemPreg.dct, and 2002FemPreg.dat.gz\n",
    "download(\"https://github.com/AllenDowney/ThinkStats2/raw/master/code/nsfg.py\")\n",
    "\n",
    "download(\"https://github.com/AllenDowney/ThinkStats2/raw/master/code/2002FemPreg.dct\")\n",
    "download(\n",
    "    \"https://github.com/AllenDowney/ThinkStats2/raw/master/code/2002FemPreg.dat.gz\"\n",
    ")"
   ]
  },
  {
   "cell_type": "code",
   "execution_count": 5,
   "id": "b22b9999",
   "metadata": {},
   "outputs": [
    {
     "name": "stdout",
     "output_type": "stream",
     "text": [
      "1.0     4413\n",
      "2.0     2874\n",
      "3.0     1234\n",
      "4.0      421\n",
      "5.0      126\n",
      "6.0       50\n",
      "7.0       20\n",
      "8.0        7\n",
      "9.0        2\n",
      "10.0       1\n",
      "Name: birthord, dtype: int64\n",
      "\n",
      "Value counts from the codebook:\n",
      "1.0     4413\n",
      "2.0     2874\n",
      "3.0     1234\n",
      "4.0      421\n",
      "5.0      126\n",
      "6.0       50\n",
      "7.0       20\n",
      "8.0        7\n",
      "9.0        2\n",
      "10.0       1\n",
      "Name: birthord, dtype: int64\n"
     ]
    }
   ],
   "source": [
    "# import library nsfg and read FemPreg\n",
    "import nsfg\n",
    "preg = nsfg.ReadFemPreg()\n",
    "# Print out the column birthord and count its values\n",
    "print(preg['birthord'].value_counts())\n",
    "# Compare to codebook\n",
    "codebook_counts = preg['birthord'].astype('category').value_counts().sort_index()\n",
    "print('\\nValue counts from the codebook:')\n",
    "print(codebook_counts)"
   ]
  },
  {
   "cell_type": "code",
   "execution_count": 3,
   "id": "af10a757",
   "metadata": {},
   "outputs": [
    {
     "data": {
      "text/plain": [
       "4445"
      ]
     },
     "execution_count": 3,
     "metadata": {},
     "output_type": "execute_result"
    }
   ],
   "source": [
    "# How many nans does it have? count nans\n",
    "preg.birthord.isnull().sum()"
   ]
  },
  {
   "cell_type": "markdown",
   "id": "4441a99d",
   "metadata": {},
   "source": [
    "# Select the prglngth column, print the value counts, and compare to results published in the codebook"
   ]
  },
  {
   "cell_type": "code",
   "execution_count": 4,
   "id": "c02c71b4",
   "metadata": {},
   "outputs": [
    {
     "name": "stdout",
     "output_type": "stream",
     "text": [
      "0       15\n",
      "1        9\n",
      "2       78\n",
      "3      151\n",
      "4      412\n",
      "5      181\n",
      "6      543\n",
      "7      175\n",
      "8      409\n",
      "9      594\n",
      "10     137\n",
      "11     202\n",
      "12     170\n",
      "13     446\n",
      "14      29\n",
      "15      39\n",
      "16      44\n",
      "17     253\n",
      "18      17\n",
      "19      34\n",
      "20      18\n",
      "21      37\n",
      "22     147\n",
      "23      12\n",
      "24      31\n",
      "25      15\n",
      "26     117\n",
      "27       8\n",
      "28      38\n",
      "29      23\n",
      "30     198\n",
      "31      29\n",
      "32     122\n",
      "33      50\n",
      "34      60\n",
      "35     357\n",
      "36     329\n",
      "37     457\n",
      "38     609\n",
      "39    4744\n",
      "40    1120\n",
      "41     591\n",
      "42     328\n",
      "43     148\n",
      "44      46\n",
      "45      10\n",
      "46       1\n",
      "47       1\n",
      "48       7\n",
      "50       2\n",
      "Name: prglngth, dtype: int64\n",
      "\n",
      "Value counts from the codebook:\n",
      "0       15\n",
      "1        9\n",
      "2       78\n",
      "3      151\n",
      "4      412\n",
      "5      181\n",
      "6      543\n",
      "7      175\n",
      "8      409\n",
      "9      594\n",
      "10     137\n",
      "11     202\n",
      "12     170\n",
      "13     446\n",
      "14      29\n",
      "15      39\n",
      "16      44\n",
      "17     253\n",
      "18      17\n",
      "19      34\n",
      "20      18\n",
      "21      37\n",
      "22     147\n",
      "23      12\n",
      "24      31\n",
      "25      15\n",
      "26     117\n",
      "27       8\n",
      "28      38\n",
      "29      23\n",
      "30     198\n",
      "31      29\n",
      "32     122\n",
      "33      50\n",
      "34      60\n",
      "35     357\n",
      "36     329\n",
      "37     457\n",
      "38     609\n",
      "39    4744\n",
      "40    1120\n",
      "41     591\n",
      "42     328\n",
      "43     148\n",
      "44      46\n",
      "45      10\n",
      "46       1\n",
      "47       1\n",
      "48       7\n",
      "50       2\n",
      "Name: prglngth, dtype: int64\n"
     ]
    }
   ],
   "source": [
    "# import library nsfg and read FemPreg\n",
    "import nsfg\n",
    "preg = nsfg.ReadFemPreg()\n",
    "\n",
    "# Print value counts\n",
    "print(preg['prglngth'].value_counts().sort_index())\n",
    "\n",
    "# Compare to codebook\n",
    "codebook_counts = preg['prglngth'].astype('category').value_counts().sort_index()\n",
    "print('\\nValue counts from the codebook:')\n",
    "print(codebook_counts)"
   ]
  },
  {
   "cell_type": "code",
   "execution_count": 6,
   "id": "cfd6619a",
   "metadata": {},
   "outputs": [
    {
     "data": {
      "text/plain": [
       "7.265628457623368"
      ]
     },
     "execution_count": 6,
     "metadata": {},
     "output_type": "execute_result"
    }
   ],
   "source": [
    "# To compute the mean of a column\n",
    "preg.totalwgt_lb.mean()"
   ]
  },
  {
   "cell_type": "markdown",
   "id": "264b6dd9",
   "metadata": {},
   "source": [
    "# Create a new column named totalwgt_kg that contains birth weight in kilograms. Compute its mean. \n",
    "# Remember that when you create a new column, you have to use dictionary syntax, not dot notation."
   ]
  },
  {
   "cell_type": "code",
   "execution_count": 7,
   "id": "1cf71fe0",
   "metadata": {},
   "outputs": [
    {
     "name": "stdout",
     "output_type": "stream",
     "text": [
      "Mean birth weight in kilograms: 3.30\n"
     ]
    }
   ],
   "source": [
    "# import library nsfg and read FemPreg\n",
    "import nsfg\n",
    "preg = nsfg.ReadFemPreg()\n",
    "\n",
    "# Create new column\n",
    "preg['totalwgt_kg'] = preg['totalwgt_lb'] * 0.45359237\n",
    "\n",
    "# Compute mean\n",
    "mean_weight_kg = preg['totalwgt_kg'].mean()\n",
    "\n",
    "# Print mean\n",
    "print(\"Mean birth weight in kilograms: {:.2f}\".format(mean_weight_kg))"
   ]
  },
  {
   "cell_type": "code",
   "execution_count": 9,
   "id": "ed41b2a5",
   "metadata": {},
   "outputs": [
    {
     "name": "stdout",
     "output_type": "stream",
     "text": [
      "Downloaded 2002FemResp.dct\n",
      "Downloaded 2002FemResp.dat.gz\n"
     ]
    }
   ],
   "source": [
    "# import library os, basename and exists\n",
    "from os.path import basename, exists\n",
    "# Create a function download to load the thinkstats2.py and thinkploy.py from github\n",
    "def download(url):\n",
    "    # Create a variable filename and assign it to the base url parameter\n",
    "    filename = basename(url)\n",
    "    if not exists(filename):\n",
    "        # if filename is not exist, then import urllib and urlretrieve\n",
    "        from urllib.request import urlretrieve\n",
    "\n",
    "        local, _ = urlretrieve(url, filename)\n",
    "        print(\"Downloaded \" + local)\n",
    "# Download 2022FemResp.dct and 2002FemResp.dat.gz\n",
    "download(\"https://github.com/AllenDowney/ThinkStats2/raw/master/code/2002FemResp.dct\")\n",
    "download(\"https://github.com/AllenDowney/ThinkStats2/raw/master/code/2002FemResp.dat.gz\")"
   ]
  },
  {
   "cell_type": "code",
   "execution_count": 11,
   "id": "8580f46d",
   "metadata": {},
   "outputs": [
    {
     "data": {
      "text/html": [
       "<div>\n",
       "<style scoped>\n",
       "    .dataframe tbody tr th:only-of-type {\n",
       "        vertical-align: middle;\n",
       "    }\n",
       "\n",
       "    .dataframe tbody tr th {\n",
       "        vertical-align: top;\n",
       "    }\n",
       "\n",
       "    .dataframe thead th {\n",
       "        text-align: right;\n",
       "    }\n",
       "</style>\n",
       "<table border=\"1\" class=\"dataframe\">\n",
       "  <thead>\n",
       "    <tr style=\"text-align: right;\">\n",
       "      <th></th>\n",
       "      <th>caseid</th>\n",
       "      <th>rscrinf</th>\n",
       "      <th>rdormres</th>\n",
       "      <th>rostscrn</th>\n",
       "      <th>rscreenhisp</th>\n",
       "      <th>rscreenrace</th>\n",
       "      <th>age_a</th>\n",
       "      <th>age_r</th>\n",
       "      <th>cmbirth</th>\n",
       "      <th>agescrn</th>\n",
       "      <th>...</th>\n",
       "      <th>pubassis_i</th>\n",
       "      <th>basewgt</th>\n",
       "      <th>adj_mod_basewgt</th>\n",
       "      <th>finalwgt</th>\n",
       "      <th>secu_r</th>\n",
       "      <th>sest</th>\n",
       "      <th>cmintvw</th>\n",
       "      <th>cmlstyr</th>\n",
       "      <th>screentime</th>\n",
       "      <th>intvlngth</th>\n",
       "    </tr>\n",
       "  </thead>\n",
       "  <tbody>\n",
       "    <tr>\n",
       "      <th>0</th>\n",
       "      <td>2298</td>\n",
       "      <td>1</td>\n",
       "      <td>5</td>\n",
       "      <td>5</td>\n",
       "      <td>1</td>\n",
       "      <td>5.0</td>\n",
       "      <td>27</td>\n",
       "      <td>27</td>\n",
       "      <td>902</td>\n",
       "      <td>27</td>\n",
       "      <td>...</td>\n",
       "      <td>0</td>\n",
       "      <td>3247.916977</td>\n",
       "      <td>5123.759559</td>\n",
       "      <td>5556.717241</td>\n",
       "      <td>2</td>\n",
       "      <td>18</td>\n",
       "      <td>1234</td>\n",
       "      <td>1222</td>\n",
       "      <td>18:26:36</td>\n",
       "      <td>110.492667</td>\n",
       "    </tr>\n",
       "    <tr>\n",
       "      <th>1</th>\n",
       "      <td>5012</td>\n",
       "      <td>1</td>\n",
       "      <td>5</td>\n",
       "      <td>1</td>\n",
       "      <td>5</td>\n",
       "      <td>5.0</td>\n",
       "      <td>42</td>\n",
       "      <td>42</td>\n",
       "      <td>718</td>\n",
       "      <td>42</td>\n",
       "      <td>...</td>\n",
       "      <td>0</td>\n",
       "      <td>2335.279149</td>\n",
       "      <td>2846.799490</td>\n",
       "      <td>4744.191350</td>\n",
       "      <td>2</td>\n",
       "      <td>18</td>\n",
       "      <td>1233</td>\n",
       "      <td>1221</td>\n",
       "      <td>16:30:59</td>\n",
       "      <td>64.294000</td>\n",
       "    </tr>\n",
       "    <tr>\n",
       "      <th>2</th>\n",
       "      <td>11586</td>\n",
       "      <td>1</td>\n",
       "      <td>5</td>\n",
       "      <td>1</td>\n",
       "      <td>5</td>\n",
       "      <td>5.0</td>\n",
       "      <td>43</td>\n",
       "      <td>43</td>\n",
       "      <td>708</td>\n",
       "      <td>43</td>\n",
       "      <td>...</td>\n",
       "      <td>0</td>\n",
       "      <td>2335.279149</td>\n",
       "      <td>2846.799490</td>\n",
       "      <td>4744.191350</td>\n",
       "      <td>2</td>\n",
       "      <td>18</td>\n",
       "      <td>1234</td>\n",
       "      <td>1222</td>\n",
       "      <td>18:19:09</td>\n",
       "      <td>75.149167</td>\n",
       "    </tr>\n",
       "    <tr>\n",
       "      <th>3</th>\n",
       "      <td>6794</td>\n",
       "      <td>5</td>\n",
       "      <td>5</td>\n",
       "      <td>4</td>\n",
       "      <td>1</td>\n",
       "      <td>5.0</td>\n",
       "      <td>15</td>\n",
       "      <td>15</td>\n",
       "      <td>1042</td>\n",
       "      <td>15</td>\n",
       "      <td>...</td>\n",
       "      <td>0</td>\n",
       "      <td>3783.152221</td>\n",
       "      <td>5071.464231</td>\n",
       "      <td>5923.977368</td>\n",
       "      <td>2</td>\n",
       "      <td>18</td>\n",
       "      <td>1234</td>\n",
       "      <td>1222</td>\n",
       "      <td>15:54:43</td>\n",
       "      <td>28.642833</td>\n",
       "    </tr>\n",
       "    <tr>\n",
       "      <th>4</th>\n",
       "      <td>616</td>\n",
       "      <td>1</td>\n",
       "      <td>5</td>\n",
       "      <td>4</td>\n",
       "      <td>1</td>\n",
       "      <td>5.0</td>\n",
       "      <td>20</td>\n",
       "      <td>20</td>\n",
       "      <td>991</td>\n",
       "      <td>20</td>\n",
       "      <td>...</td>\n",
       "      <td>0</td>\n",
       "      <td>5341.329968</td>\n",
       "      <td>6437.335772</td>\n",
       "      <td>7229.128072</td>\n",
       "      <td>2</td>\n",
       "      <td>18</td>\n",
       "      <td>1233</td>\n",
       "      <td>1221</td>\n",
       "      <td>14:19:44</td>\n",
       "      <td>69.502667</td>\n",
       "    </tr>\n",
       "  </tbody>\n",
       "</table>\n",
       "<p>5 rows × 3087 columns</p>\n",
       "</div>"
      ],
      "text/plain": [
       "   caseid  rscrinf  rdormres  rostscrn  rscreenhisp  rscreenrace  age_a  \\\n",
       "0    2298        1         5         5            1          5.0     27   \n",
       "1    5012        1         5         1            5          5.0     42   \n",
       "2   11586        1         5         1            5          5.0     43   \n",
       "3    6794        5         5         4            1          5.0     15   \n",
       "4     616        1         5         4            1          5.0     20   \n",
       "\n",
       "   age_r  cmbirth  agescrn  ...  pubassis_i      basewgt  adj_mod_basewgt  \\\n",
       "0     27      902       27  ...           0  3247.916977      5123.759559   \n",
       "1     42      718       42  ...           0  2335.279149      2846.799490   \n",
       "2     43      708       43  ...           0  2335.279149      2846.799490   \n",
       "3     15     1042       15  ...           0  3783.152221      5071.464231   \n",
       "4     20      991       20  ...           0  5341.329968      6437.335772   \n",
       "\n",
       "      finalwgt  secu_r  sest  cmintvw  cmlstyr  screentime   intvlngth  \n",
       "0  5556.717241       2    18     1234     1222    18:26:36  110.492667  \n",
       "1  4744.191350       2    18     1233     1221    16:30:59   64.294000  \n",
       "2  4744.191350       2    18     1234     1222    18:19:09   75.149167  \n",
       "3  5923.977368       2    18     1234     1222    15:54:43   28.642833  \n",
       "4  7229.128072       2    18     1233     1221    14:19:44   69.502667  \n",
       "\n",
       "[5 rows x 3087 columns]"
      ]
     },
     "execution_count": 11,
     "metadata": {},
     "output_type": "execute_result"
    }
   ],
   "source": [
    "# Read few lines of resp\n",
    "resp = nsfg.ReadFemResp()\n",
    "resp.head()"
   ]
  },
  {
   "cell_type": "markdown",
   "id": "57d973cf",
   "metadata": {},
   "source": [
    "# Select the age_r column from resp and print the value counts. How old are the youngest and oldest respondents?"
   ]
  },
  {
   "cell_type": "code",
   "execution_count": 12,
   "id": "36e18abd",
   "metadata": {},
   "outputs": [
    {
     "name": "stdout",
     "output_type": "stream",
     "text": [
      "30    292\n",
      "22    287\n",
      "23    282\n",
      "31    278\n",
      "32    273\n",
      "37    271\n",
      "24    269\n",
      "25    267\n",
      "21    267\n",
      "36    266\n",
      "35    262\n",
      "29    262\n",
      "26    260\n",
      "20    258\n",
      "33    257\n",
      "38    256\n",
      "40    256\n",
      "27    255\n",
      "34    255\n",
      "43    253\n",
      "28    252\n",
      "41    250\n",
      "19    241\n",
      "18    235\n",
      "44    235\n",
      "17    234\n",
      "16    223\n",
      "15    217\n",
      "42    215\n",
      "39    215\n",
      "Name: age_r, dtype: int64\n",
      "Youngest respondent age: 15\n",
      "Oldest respondent age: 44\n"
     ]
    }
   ],
   "source": [
    "# import library nsfg and read FemResp\n",
    "import nsfg\n",
    "resp = nsfg.ReadFemResp()\n",
    "\n",
    "# Print value counts of age_r column\n",
    "print(resp['age_r'].value_counts())\n",
    "\n",
    "# Compute minimum and maximum age\n",
    "min_age = resp['age_r'].min()\n",
    "max_age = resp['age_r'].max()\n",
    "\n",
    "# Print minimum and maximum age\n",
    "print(f\"Youngest respondent age: {min_age}\")\n",
    "print(f\"Oldest respondent age: {max_age}\")"
   ]
  },
  {
   "cell_type": "markdown",
   "id": "f69c46da",
   "metadata": {},
   "source": [
    "# We can use the caseid to match up rows from resp and preg. \n",
    "# For example, we can select the row from resp for caseid 2298 like this:"
   ]
  },
  {
   "cell_type": "code",
   "execution_count": 13,
   "id": "240e57cb",
   "metadata": {},
   "outputs": [
    {
     "data": {
      "text/html": [
       "<div>\n",
       "<style scoped>\n",
       "    .dataframe tbody tr th:only-of-type {\n",
       "        vertical-align: middle;\n",
       "    }\n",
       "\n",
       "    .dataframe tbody tr th {\n",
       "        vertical-align: top;\n",
       "    }\n",
       "\n",
       "    .dataframe thead th {\n",
       "        text-align: right;\n",
       "    }\n",
       "</style>\n",
       "<table border=\"1\" class=\"dataframe\">\n",
       "  <thead>\n",
       "    <tr style=\"text-align: right;\">\n",
       "      <th></th>\n",
       "      <th>caseid</th>\n",
       "      <th>rscrinf</th>\n",
       "      <th>rdormres</th>\n",
       "      <th>rostscrn</th>\n",
       "      <th>rscreenhisp</th>\n",
       "      <th>rscreenrace</th>\n",
       "      <th>age_a</th>\n",
       "      <th>age_r</th>\n",
       "      <th>cmbirth</th>\n",
       "      <th>agescrn</th>\n",
       "      <th>...</th>\n",
       "      <th>pubassis_i</th>\n",
       "      <th>basewgt</th>\n",
       "      <th>adj_mod_basewgt</th>\n",
       "      <th>finalwgt</th>\n",
       "      <th>secu_r</th>\n",
       "      <th>sest</th>\n",
       "      <th>cmintvw</th>\n",
       "      <th>cmlstyr</th>\n",
       "      <th>screentime</th>\n",
       "      <th>intvlngth</th>\n",
       "    </tr>\n",
       "  </thead>\n",
       "  <tbody>\n",
       "    <tr>\n",
       "      <th>0</th>\n",
       "      <td>2298</td>\n",
       "      <td>1</td>\n",
       "      <td>5</td>\n",
       "      <td>5</td>\n",
       "      <td>1</td>\n",
       "      <td>5.0</td>\n",
       "      <td>27</td>\n",
       "      <td>27</td>\n",
       "      <td>902</td>\n",
       "      <td>27</td>\n",
       "      <td>...</td>\n",
       "      <td>0</td>\n",
       "      <td>3247.916977</td>\n",
       "      <td>5123.759559</td>\n",
       "      <td>5556.717241</td>\n",
       "      <td>2</td>\n",
       "      <td>18</td>\n",
       "      <td>1234</td>\n",
       "      <td>1222</td>\n",
       "      <td>18:26:36</td>\n",
       "      <td>110.492667</td>\n",
       "    </tr>\n",
       "  </tbody>\n",
       "</table>\n",
       "<p>1 rows × 3087 columns</p>\n",
       "</div>"
      ],
      "text/plain": [
       "   caseid  rscrinf  rdormres  rostscrn  rscreenhisp  rscreenrace  age_a  \\\n",
       "0    2298        1         5         5            1          5.0     27   \n",
       "\n",
       "   age_r  cmbirth  agescrn  ...  pubassis_i      basewgt  adj_mod_basewgt  \\\n",
       "0     27      902       27  ...           0  3247.916977      5123.759559   \n",
       "\n",
       "      finalwgt  secu_r  sest  cmintvw  cmlstyr  screentime   intvlngth  \n",
       "0  5556.717241       2    18     1234     1222    18:26:36  110.492667  \n",
       "\n",
       "[1 rows x 3087 columns]"
      ]
     },
     "execution_count": 13,
     "metadata": {},
     "output_type": "execute_result"
    }
   ],
   "source": [
    "# Read col caseid = 2298 only in the resp\n",
    "resp[resp.caseid==2298]"
   ]
  },
  {
   "cell_type": "markdown",
   "id": "ed68b55c",
   "metadata": {},
   "source": [
    "# And we can get the corresponding rows from preg like this:"
   ]
  },
  {
   "cell_type": "code",
   "execution_count": 14,
   "id": "c1e9e51b",
   "metadata": {},
   "outputs": [
    {
     "data": {
      "text/html": [
       "<div>\n",
       "<style scoped>\n",
       "    .dataframe tbody tr th:only-of-type {\n",
       "        vertical-align: middle;\n",
       "    }\n",
       "\n",
       "    .dataframe tbody tr th {\n",
       "        vertical-align: top;\n",
       "    }\n",
       "\n",
       "    .dataframe thead th {\n",
       "        text-align: right;\n",
       "    }\n",
       "</style>\n",
       "<table border=\"1\" class=\"dataframe\">\n",
       "  <thead>\n",
       "    <tr style=\"text-align: right;\">\n",
       "      <th></th>\n",
       "      <th>caseid</th>\n",
       "      <th>pregordr</th>\n",
       "      <th>howpreg_n</th>\n",
       "      <th>howpreg_p</th>\n",
       "      <th>moscurrp</th>\n",
       "      <th>nowprgdk</th>\n",
       "      <th>pregend1</th>\n",
       "      <th>pregend2</th>\n",
       "      <th>nbrnaliv</th>\n",
       "      <th>multbrth</th>\n",
       "      <th>...</th>\n",
       "      <th>religion_i</th>\n",
       "      <th>metro_i</th>\n",
       "      <th>basewgt</th>\n",
       "      <th>adj_mod_basewgt</th>\n",
       "      <th>finalwgt</th>\n",
       "      <th>secu_p</th>\n",
       "      <th>sest</th>\n",
       "      <th>cmintvw</th>\n",
       "      <th>totalwgt_lb</th>\n",
       "      <th>totalwgt_kg</th>\n",
       "    </tr>\n",
       "  </thead>\n",
       "  <tbody>\n",
       "    <tr>\n",
       "      <th>2610</th>\n",
       "      <td>2298</td>\n",
       "      <td>1</td>\n",
       "      <td>NaN</td>\n",
       "      <td>NaN</td>\n",
       "      <td>NaN</td>\n",
       "      <td>NaN</td>\n",
       "      <td>6.0</td>\n",
       "      <td>NaN</td>\n",
       "      <td>1.0</td>\n",
       "      <td>NaN</td>\n",
       "      <td>...</td>\n",
       "      <td>0</td>\n",
       "      <td>0</td>\n",
       "      <td>3247.916977</td>\n",
       "      <td>5123.759559</td>\n",
       "      <td>5556.717241</td>\n",
       "      <td>2</td>\n",
       "      <td>18</td>\n",
       "      <td>NaN</td>\n",
       "      <td>6.8750</td>\n",
       "      <td>3.118448</td>\n",
       "    </tr>\n",
       "    <tr>\n",
       "      <th>2611</th>\n",
       "      <td>2298</td>\n",
       "      <td>2</td>\n",
       "      <td>NaN</td>\n",
       "      <td>NaN</td>\n",
       "      <td>NaN</td>\n",
       "      <td>NaN</td>\n",
       "      <td>6.0</td>\n",
       "      <td>NaN</td>\n",
       "      <td>1.0</td>\n",
       "      <td>NaN</td>\n",
       "      <td>...</td>\n",
       "      <td>0</td>\n",
       "      <td>0</td>\n",
       "      <td>3247.916977</td>\n",
       "      <td>5123.759559</td>\n",
       "      <td>5556.717241</td>\n",
       "      <td>2</td>\n",
       "      <td>18</td>\n",
       "      <td>NaN</td>\n",
       "      <td>5.5000</td>\n",
       "      <td>2.494758</td>\n",
       "    </tr>\n",
       "    <tr>\n",
       "      <th>2612</th>\n",
       "      <td>2298</td>\n",
       "      <td>3</td>\n",
       "      <td>NaN</td>\n",
       "      <td>NaN</td>\n",
       "      <td>NaN</td>\n",
       "      <td>NaN</td>\n",
       "      <td>6.0</td>\n",
       "      <td>NaN</td>\n",
       "      <td>1.0</td>\n",
       "      <td>NaN</td>\n",
       "      <td>...</td>\n",
       "      <td>0</td>\n",
       "      <td>0</td>\n",
       "      <td>3247.916977</td>\n",
       "      <td>5123.759559</td>\n",
       "      <td>5556.717241</td>\n",
       "      <td>2</td>\n",
       "      <td>18</td>\n",
       "      <td>NaN</td>\n",
       "      <td>4.1875</td>\n",
       "      <td>1.899418</td>\n",
       "    </tr>\n",
       "    <tr>\n",
       "      <th>2613</th>\n",
       "      <td>2298</td>\n",
       "      <td>4</td>\n",
       "      <td>NaN</td>\n",
       "      <td>NaN</td>\n",
       "      <td>NaN</td>\n",
       "      <td>NaN</td>\n",
       "      <td>6.0</td>\n",
       "      <td>NaN</td>\n",
       "      <td>1.0</td>\n",
       "      <td>NaN</td>\n",
       "      <td>...</td>\n",
       "      <td>0</td>\n",
       "      <td>0</td>\n",
       "      <td>3247.916977</td>\n",
       "      <td>5123.759559</td>\n",
       "      <td>5556.717241</td>\n",
       "      <td>2</td>\n",
       "      <td>18</td>\n",
       "      <td>NaN</td>\n",
       "      <td>6.8750</td>\n",
       "      <td>3.118448</td>\n",
       "    </tr>\n",
       "  </tbody>\n",
       "</table>\n",
       "<p>4 rows × 245 columns</p>\n",
       "</div>"
      ],
      "text/plain": [
       "      caseid  pregordr  howpreg_n  howpreg_p  moscurrp  nowprgdk  pregend1  \\\n",
       "2610    2298         1        NaN        NaN       NaN       NaN       6.0   \n",
       "2611    2298         2        NaN        NaN       NaN       NaN       6.0   \n",
       "2612    2298         3        NaN        NaN       NaN       NaN       6.0   \n",
       "2613    2298         4        NaN        NaN       NaN       NaN       6.0   \n",
       "\n",
       "      pregend2  nbrnaliv  multbrth  ...  religion_i  metro_i      basewgt  \\\n",
       "2610       NaN       1.0       NaN  ...           0        0  3247.916977   \n",
       "2611       NaN       1.0       NaN  ...           0        0  3247.916977   \n",
       "2612       NaN       1.0       NaN  ...           0        0  3247.916977   \n",
       "2613       NaN       1.0       NaN  ...           0        0  3247.916977   \n",
       "\n",
       "      adj_mod_basewgt     finalwgt  secu_p  sest  cmintvw  totalwgt_lb  \\\n",
       "2610      5123.759559  5556.717241       2    18      NaN       6.8750   \n",
       "2611      5123.759559  5556.717241       2    18      NaN       5.5000   \n",
       "2612      5123.759559  5556.717241       2    18      NaN       4.1875   \n",
       "2613      5123.759559  5556.717241       2    18      NaN       6.8750   \n",
       "\n",
       "      totalwgt_kg  \n",
       "2610     3.118448  \n",
       "2611     2.494758  \n",
       "2612     1.899418  \n",
       "2613     3.118448  \n",
       "\n",
       "[4 rows x 245 columns]"
      ]
     },
     "execution_count": 14,
     "metadata": {},
     "output_type": "execute_result"
    }
   ],
   "source": [
    "# Read col caseid - 2298 only in the preg\n",
    "preg[preg.caseid==2298]"
   ]
  },
  {
   "cell_type": "markdown",
   "id": "38302991",
   "metadata": {},
   "source": [
    "# How old is the respondent with caseid 1?"
   ]
  },
  {
   "cell_type": "code",
   "execution_count": 15,
   "id": "18e67039",
   "metadata": {},
   "outputs": [
    {
     "name": "stdout",
     "output_type": "stream",
     "text": [
      "Age of respondent with caseid 1: 44\n"
     ]
    }
   ],
   "source": [
    "# import library nsfg and read FemResp\n",
    "import nsfg\n",
    "resp = nsfg.ReadFemResp()\n",
    "\n",
    "# Select respondent with caseid 1\n",
    "resp_1 = resp[resp['caseid'] == 1]\n",
    "\n",
    "# Get age of respondent\n",
    "age_1 = resp_1['age_r'].iloc[0]\n",
    "\n",
    "# Print age of respondent\n",
    "print(f\"Age of respondent with caseid 1: {age_1}\")"
   ]
  },
  {
   "cell_type": "markdown",
   "id": "71fc82de",
   "metadata": {},
   "source": [
    "# What are the pregnancy lengths for the respondent with caseid 2298?"
   ]
  },
  {
   "cell_type": "code",
   "execution_count": 16,
   "id": "7646d336",
   "metadata": {},
   "outputs": [
    {
     "name": "stdout",
     "output_type": "stream",
     "text": [
      "Pregnancy lengths for respondent with caseid 2298:\n",
      "2610    40\n",
      "2611    36\n",
      "2612    30\n",
      "2613    40\n",
      "Name: prglngth, dtype: int64\n"
     ]
    }
   ],
   "source": [
    "# import library nsfg and read FemPreg\n",
    "import nsfg\n",
    "preg = nsfg.ReadFemPreg()\n",
    "\n",
    "# Select pregnancies for respondent with caseid 2298\n",
    "preg_2298 = preg[preg['caseid'] == 2298]\n",
    "\n",
    "# Get pregnancy lengths\n",
    "preg_lengths = preg_2298['prglngth']\n",
    "\n",
    "# Print pregnancy lengths\n",
    "print(f\"Pregnancy lengths for respondent with caseid 2298:\\n{preg_lengths}\")"
   ]
  },
  {
   "cell_type": "markdown",
   "id": "fe0e298f",
   "metadata": {},
   "source": [
    "# What was the birthweight of the first baby born to the respondent with caseid 5012?"
   ]
  },
  {
   "cell_type": "code",
   "execution_count": 17,
   "id": "4ebabb03",
   "metadata": {},
   "outputs": [
    {
     "name": "stdout",
     "output_type": "stream",
     "text": [
      "Birthweight of first baby born to respondent with caseid 5012: 6.0 pounds\n"
     ]
    }
   ],
   "source": [
    "# import library nsfg and read FemPreg\n",
    "import nsfg\n",
    "preg = nsfg.ReadFemPreg()\n",
    "\n",
    "# Select pregnancies for respondent with caseid 5012\n",
    "preg_5012 = preg[preg['caseid'] == 5012]\n",
    "\n",
    "# Select birthweight of first baby\n",
    "birthweight = preg_5012.loc[preg_5012['pregordr'] == 1, 'totalwgt_lb']\n",
    "\n",
    "# Print birthweight\n",
    "print(f\"Birthweight of first baby born to respondent with caseid 5012: {birthweight.iloc[0]} pounds\")"
   ]
  },
  {
   "cell_type": "code",
   "execution_count": 18,
   "id": "6fb6595d",
   "metadata": {},
   "outputs": [],
   "source": [
    "#--------Chapter 02--------"
   ]
  },
  {
   "cell_type": "markdown",
   "id": "7a4e4665",
   "metadata": {},
   "source": [
    "# Using the variable totalwgt_lb, investigate whether first babies are lighter or heavier than others.\n",
    "# Compute Cohen’s effect size to quantify the difference between the groups. \n",
    "# How does it compare to the difference in pregnancy length?"
   ]
  },
  {
   "cell_type": "code",
   "execution_count": 23,
   "id": "316f3a14",
   "metadata": {},
   "outputs": [
    {
     "name": "stdout",
     "output_type": "stream",
     "text": [
      "Mean birth weight for first babies: 7.20 pounds\n",
      "Mean birth weight for others: 7.33 pounds\n",
      "Cohen's d effect size for birth weight: -0.09\n"
     ]
    }
   ],
   "source": [
    "# import nsfg, math, and numpy libraries\n",
    "import nsfg\n",
    "import math\n",
    "import numpy as np\n",
    "\n",
    "preg = nsfg.ReadFemPreg()\n",
    "\n",
    "# Subset data for first babies and others\n",
    "firsts = preg[preg['birthord'] == 1]\n",
    "others = preg[preg['birthord'] != 1]\n",
    "\n",
    "# Compute mean birth weight for first babies and others\n",
    "mean_firsts = firsts['totalwgt_lb'].mean()\n",
    "mean_others = others['totalwgt_lb'].mean()\n",
    "\n",
    "# Compute Cohen's d effect size\n",
    "cohens_d = (mean_firsts - mean_others) / np.sqrt((np.var(firsts['totalwgt_lb'], ddof=1) + np.var(others['totalwgt_lb'], ddof=1)) / 2)\n",
    "\n",
    "# Print results\n",
    "print(f\"Mean birth weight for first babies: {mean_firsts:.2f} pounds\")\n",
    "print(f\"Mean birth weight for others: {mean_others:.2f} pounds\")\n",
    "print(f\"Cohen's d effect size for birth weight: {cohens_d:.2f}\")"
   ]
  },
  {
   "cell_type": "markdown",
   "id": "2b1c35ab",
   "metadata": {},
   "source": [
    "# Make a histogram of totincr the total income for the respondent's family. To interpret the codes see the codebook."
   ]
  },
  {
   "cell_type": "code",
   "execution_count": 24,
   "id": "3fce52e2",
   "metadata": {},
   "outputs": [
    {
     "data": {
      "image/png": "[encoded data removed]",
      "text/plain": [
       "<Figure size 640x480 with 1 Axes>"
      ]
     },
     "metadata": {},
     "output_type": "display_data"
    }
   ],
   "source": [
    "# import nsfg and matplotlib libraries\n",
    "import nsfg\n",
    "import matplotlib.pyplot as plt\n",
    "\n",
    "resp = nsfg.ReadFemResp()\n",
    "\n",
    "# Plot histogram of totincr\n",
    "plt.hist(resp['totincr'], bins=range(1, 15), align='left', rwidth=0.8)\n",
    "\n",
    "# Add axis labels and title\n",
    "plt.xlabel('Total family income (in $10,000s)')\n",
    "plt.ylabel('Number of respondents')\n",
    "plt.title('Histogram of total family income')\n",
    "\n",
    "# Show plot\n",
    "plt.show()"
   ]
  },
  {
   "cell_type": "markdown",
   "id": "67530dd6",
   "metadata": {},
   "source": [
    "# Make a histogram of age_r, the respondent's age at the time of interview."
   ]
  },
  {
   "cell_type": "code",
   "execution_count": 4,
   "id": "eecf5a3a",
   "metadata": {},
   "outputs": [
    {
     "data": {
      "image/png": "[encoded data removed]",
      "text/plain": [
       "<Figure size 640x480 with 1 Axes>"
      ]
     },
     "metadata": {},
     "output_type": "display_data"
    }
   ],
   "source": [
    "# import nsfg and matplotlib libraries\n",
    "import nsfg\n",
    "import matplotlib.pyplot as plt\n",
    "\n",
    "resp = nsfg.ReadFemResp()\n",
    "\n",
    "# Plot histogram of age_r\n",
    "plt.hist(resp['age_r'], bins=range(10, 46), align='left', rwidth=0.8)\n",
    "\n",
    "# Add axis labels and title\n",
    "plt.xlabel('Age at interview')\n",
    "plt.ylabel('Number of respondents')\n",
    "plt.title('Histogram of respondent age')\n",
    "\n",
    "# Show plot\n",
    "plt.show()"
   ]
  },
  {
   "cell_type": "markdown",
   "id": "a0bee70d",
   "metadata": {},
   "source": [
    "# Make a histogram of numfmhh, the number of people in the respondent's household."
   ]
  },
  {
   "cell_type": "code",
   "execution_count": 5,
   "id": "0c375080",
   "metadata": {},
   "outputs": [
    {
     "data": {
      "image/png": "[encoded data removed]",
      "text/plain": [
       "<Figure size 640x480 with 1 Axes>"
      ]
     },
     "metadata": {},
     "output_type": "display_data"
    }
   ],
   "source": [
    "# import nsfg and matplotlib libraries\n",
    "import nsfg\n",
    "import matplotlib.pyplot as plt\n",
    "\n",
    "resp = nsfg.ReadFemResp()\n",
    "\n",
    "# Plot histogram of numfmhh\n",
    "plt.hist(resp['numfmhh'], bins=range(0, 18), align='left', rwidth=0.8)\n",
    "\n",
    "# Add axis labels and title\n",
    "plt.xlabel('Number of people in household')\n",
    "plt.ylabel('Number of respondents')\n",
    "plt.title('Histogram of household size')\n",
    "\n",
    "# Show plot\n",
    "plt.show()"
   ]
  },
  {
   "cell_type": "markdown",
   "id": "209681af",
   "metadata": {},
   "source": [
    "# Make a histogram of parity, the number of children borne by the respondent. How would you describe this distribution?"
   ]
  },
  {
   "cell_type": "code",
   "execution_count": 6,
   "id": "b0a8b9d0",
   "metadata": {},
   "outputs": [
    {
     "data": {
      "image/png": "[encoded data removed]",
      "text/plain": [
       "<Figure size 640x480 with 1 Axes>"
      ]
     },
     "metadata": {},
     "output_type": "display_data"
    }
   ],
   "source": [
    "# import nsfg and matplotlib libraries\n",
    "import nsfg\n",
    "import matplotlib.pyplot as plt\n",
    "\n",
    "preg = nsfg.ReadFemPreg()\n",
    "\n",
    "# Plot histogram of parity\n",
    "plt.hist(preg['parity'], bins=range(12), align='left', rwidth=0.8)\n",
    "\n",
    "# Add axis labels and title\n",
    "plt.xlabel('Number of children borne')\n",
    "plt.ylabel('Number of respondents')\n",
    "plt.title('Histogram of parity')\n",
    "\n",
    "# Show plot\n",
    "plt.show()"
   ]
  },
  {
   "cell_type": "markdown",
   "id": "dd73196a",
   "metadata": {},
   "source": [
    "# Use Hist.Largest to find the largest values of parity."
   ]
  },
  {
   "cell_type": "code",
   "execution_count": 7,
   "id": "c563dae5",
   "metadata": {},
   "outputs": [
    {
     "name": "stdout",
     "output_type": "stream",
     "text": [
      "The largest values of parity are: [(22, 5), (16, 8), (10, 24), (9, 15), (8, 61), (7, 105), (6, 212), (5, 545), (4, 1510), (3, 3118)]\n"
     ]
    }
   ],
   "source": [
    "# import nsfg and thinkstats2 libraries\n",
    "import nsfg\n",
    "import thinkstats2\n",
    "\n",
    "preg = nsfg.ReadFemPreg()\n",
    "\n",
    "# Create a histogram of parity\n",
    "hist = thinkstats2.Hist(preg['parity'])\n",
    "\n",
    "# Find the largest values of parity\n",
    "largest = hist.Largest()\n",
    "\n",
    "# Print the largest values\n",
    "print(f\"The largest values of parity are: {largest}\")"
   ]
  },
  {
   "cell_type": "markdown",
   "id": "5a2c2e99",
   "metadata": {},
   "source": [
    "# Use totincr to select the respondents with the highest income (level 14). Plot the histogram of parity for just the high income respondents."
   ]
  },
  {
   "cell_type": "code",
   "execution_count": 8,
   "id": "a8091ce7",
   "metadata": {},
   "outputs": [
    {
     "data": {
      "image/png": "[encoded data removed]",
      "text/plain": [
       "<Figure size 640x480 with 1 Axes>"
      ]
     },
     "metadata": {},
     "output_type": "display_data"
    }
   ],
   "source": [
    "# import nsfg and matplotlib libraries\n",
    "import nsfg\n",
    "import matplotlib.pyplot as plt\n",
    "\n",
    "resp = nsfg.ReadFemResp()\n",
    "\n",
    "# Select respondents with highest income\n",
    "high_income = resp[resp['totincr'] == 14]\n",
    "\n",
    "# Plot histogram of parity for high-income respondents\n",
    "plt.hist(high_income['parity'], bins=range(12), align='left', rwidth=0.8)\n",
    "\n",
    "# Add axis labels and title\n",
    "plt.xlabel('Number of children borne')\n",
    "plt.ylabel('Number of respondents')\n",
    "plt.title('Histogram of parity for high-income respondents')\n",
    "\n",
    "# Show plot\n",
    "plt.show()"
   ]
  },
  {
   "cell_type": "markdown",
   "id": "03603293",
   "metadata": {},
   "source": [
    "# Find the largest parities for high income respondents."
   ]
  },
  {
   "cell_type": "code",
   "execution_count": 9,
   "id": "1c621255",
   "metadata": {},
   "outputs": [
    {
     "name": "stdout",
     "output_type": "stream",
     "text": [
      "The largest values of parity for high-income respondents are: [(8, 1), (7, 1), (5, 5), (4, 19), (3, 123), (2, 267), (1, 229), (0, 515)]\n"
     ]
    }
   ],
   "source": [
    "# import nsfg and thinkstats2 libraries\n",
    "import nsfg\n",
    "import thinkstats2\n",
    "\n",
    "resp = nsfg.ReadFemResp()\n",
    "\n",
    "# Select respondents with highest income\n",
    "high_income = resp[resp['totincr'] == 14]\n",
    "\n",
    "# Create a histogram of parity for high-income respondents\n",
    "hist = thinkstats2.Hist(high_income['parity'])\n",
    "\n",
    "# Find the largest values of parity\n",
    "largest = hist.Largest()\n",
    "\n",
    "# Print the largest values\n",
    "print(f\"The largest values of parity for high-income respondents are: {largest}\")"
   ]
  },
  {
   "cell_type": "markdown",
   "id": "87c3a7ef",
   "metadata": {},
   "source": [
    "# Compare the mean parity for high income respondents and others."
   ]
  },
  {
   "cell_type": "code",
   "execution_count": 10,
   "id": "a3b0f445",
   "metadata": {},
   "outputs": [
    {
     "name": "stdout",
     "output_type": "stream",
     "text": [
      "The mean parity for high-income respondents is 1.08.\n",
      "The mean parity for other respondents is 1.25.\n",
      "The difference in mean parity between the two groups is -0.17.\n"
     ]
    }
   ],
   "source": [
    "# import nsfg and numpy libraries\n",
    "import nsfg\n",
    "import numpy as np\n",
    "\n",
    "resp = nsfg.ReadFemResp()\n",
    "\n",
    "# Calculate mean parity for high-income respondents\n",
    "high_income_mean = resp[resp['totincr'] == 14]['parity'].mean()\n",
    "\n",
    "# Calculate mean parity for other respondents\n",
    "other_mean = resp[resp['totincr'] < 14]['parity'].mean()\n",
    "\n",
    "# Print the mean parity for each group\n",
    "print(f\"The mean parity for high-income respondents is {high_income_mean:.2f}.\")\n",
    "print(f\"The mean parity for other respondents is {other_mean:.2f}.\")\n",
    "\n",
    "# Calculate the difference in mean parity between the two groups\n",
    "diff = high_income_mean - other_mean\n",
    "\n",
    "# Print the difference in mean parity\n",
    "print(f\"The difference in mean parity between the two groups is {diff:.2f}.\")"
   ]
  },
  {
   "cell_type": "markdown",
   "id": "258b019b",
   "metadata": {},
   "source": [
    "# Compute the Cohen effect size for this difference. How does it compare with the difference in pregnancy length for first babies and others?"
   ]
  },
  {
   "cell_type": "code",
   "execution_count": 22,
   "id": "85aab44d",
   "metadata": {},
   "outputs": [
    {
     "name": "stdout",
     "output_type": "stream",
     "text": [
      "The Cohen's d effect size for the difference in mean parity is -0.13.\n"
     ]
    }
   ],
   "source": [
    "# import nsfg and numpy libraries\n",
    "import nsfg\n",
    "import numpy as np\n",
    "\n",
    "resp = nsfg.ReadFemResp()\n",
    "\n",
    "\n",
    "# Calculate mean parity for high-income respondents\n",
    "high_income_mean = resp[resp['totincr'] == 14]['parity'].mean()\n",
    "\n",
    "# Calculate mean parity for other respondents\n",
    "other_mean = resp[resp['totincr'] < 14]['parity'].mean()\n",
    "\n",
    "# Calculate the difference in mean parity between the two groups\n",
    "diff = high_income_mean - other_mean\n",
    "\n",
    "# Calculate the pooled standard deviation\n",
    "std_high_income = resp[resp['totincr'] == 14]['parity'].std()\n",
    "std_other = resp[resp['totincr'] < 14]['parity'].std()\n",
    "pooled_std = np.sqrt((std_high_income**2 + std_other**2) / 2)\n",
    "\n",
    "d = (high_income_mean - other_mean) / pooled_std\n",
    "\n",
    "# Print the effect size\n",
    "print(f\"The Cohen's d effect size for the difference in mean parity is {d:.2f}.\")"
   ]
  },
  {
   "cell_type": "code",
   "execution_count": null,
   "id": "5710223d",
   "metadata": {},
   "outputs": [],
   "source": []
  }
 ],
 "metadata": {
  "kernelspec": {
   "display_name": "Python 3 (ipykernel)",
   "language": "python",
   "name": "python3"
  },
  "language_info": {
   "codemirror_mode": {
    "name": "ipython",
    "version": 3
   },
   "file_extension": ".py",
   "mimetype": "text/x-python",
   "name": "python",
   "nbconvert_exporter": "python",
   "pygments_lexer": "ipython3",
   "version": "3.9.13"
  }
 },
 "nbformat": 4,
 "nbformat_minor": 5
}
