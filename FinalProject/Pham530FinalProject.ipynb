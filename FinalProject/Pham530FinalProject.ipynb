{
 "cells": [
  {
   "cell_type": "markdown",
   "id": "43d3d245",
   "metadata": {},
   "source": [
    "# Week 12 Final Project\n",
    "# Henry Pham\n",
    "# Department of Data Science, Bellevue University\n",
    "# DSC530-T301\n",
    "# Professor: Cary Jim\n",
    "# Assignment Due Date: 2023-06-03"
   ]
  },
  {
   "cell_type": "code",
   "execution_count": 1,
   "id": "3aa9b8d3",
   "metadata": {},
   "outputs": [],
   "source": [
    "#----Final Project----"
   ]
  },
  {
   "cell_type": "markdown",
   "id": "53b31110",
   "metadata": {},
   "source": [
    "# Introduction"
   ]
  },
  {
   "cell_type": "code",
   "execution_count": 2,
   "id": "885592ab",
   "metadata": {},
   "outputs": [],
   "source": [
    "# The objective of this project is to explore the relationship between interest rates, stock market index, and the stock prices of Apple and Toyota companies. \n",
    "# Understanding the patterns and trends in these variables is crucial for the DSC530's final project. \n",
    "# The project aims to use exploratory data analysis, transformations, and summary statistics to identify patterns and relationships between these variables."
   ]
  },
  {
   "cell_type": "markdown",
   "id": "a8aa0c58",
   "metadata": {},
   "source": [
    "# Data"
   ]
  },
  {
   "cell_type": "code",
   "execution_count": 3,
   "id": "77b45314",
   "metadata": {},
   "outputs": [],
   "source": [
    "# Interest rates: This dataset represents the interest rate for a 2019-2023 time period. \n",
    "# Interest rates are typically used to control the supply of money in an economy and are set by central banks.\n",
    "# https://home.treasury.gov/resource-center/data-chart-center/interest-rates/TextView?type=daily_treasury_bill_rates&field_tdr_date_value=2023\n",
    "\n",
    "\n",
    "# Stock market index: This dataset represents the value of a stock market index for a 2019-2023 time period. \n",
    "# A stock market index is a measure of the performance of a group of stocks that represent a particular market or sector.\n",
    "# https://finance.yahoo.com/quote/%5EGSPC/history?period1=1526256000&period2=1684022400&interval=1d&filter=history&frequency=1d&includeAdjustedClose=true\n",
    "\n",
    "\n",
    "# Apple stock prices: This dataset represents the closing price of Apple stock for a 2019-2023 time period. \n",
    "# Apple is a technology company that produces consumer electronics, computer hardware, and software.\n",
    "# https://finance.yahoo.com/quote/AAPL/history?period1=1526256000&period2=1684022400&interval=1d&filter=history&frequency=1d&includeAdjustedClose=true\n",
    "\n",
    "\n",
    "# Toyota stock prices: This dataset represents the closing price of Toyota stock for a 2019-2023 time period. \n",
    "# Toyota is a multinational conglomerate that produces automotive, financial services, and other products.\n",
    "# https://finance.yahoo.com/quote/TM/history?period1=1526256000&period2=1684022400&interval=1d&filter=history&frequency=1d&includeAdjustedClose=true\n",
    "\n",
    "\n",
    "# Overall, these datasets represent key economic indicators and stock prices that are used to track \n",
    "# the performance of the economy and individual companies. By analyzing these variables, \n",
    "# we can gain insights into the overall health of the economy and make predictions about future economic trends.\n",
    "\n",
    "# These datasets can be found in the my github,  https://github.com/henrypham1470/Pham_DSC530/tree/main/FinalProject\n"
   ]
  },
  {
   "cell_type": "markdown",
   "id": "d5ca6061",
   "metadata": {},
   "source": [
    "# Required Libraries"
   ]
  },
  {
   "cell_type": "code",
   "execution_count": 2,
   "id": "855320fb",
   "metadata": {},
   "outputs": [],
   "source": [
    "# matplotlib: data visualization library for Python, widely used in data analysis, scientific research, engineering, and visualization tasks.\n",
    "# numpy: numerical computations and data manipulation in Python.\n",
    "# pandas: data manipulation, preprocessing, cleaning, transformation, exploration, and visualization.\n",
    "# seaborn: a Python data visualization, widely used in data analysis, statistical modeling, and exploratory data analysis tasks.\n",
    "# scikit-learn: also known as sklearn, provides an efficient framework for various machine learning tasks, such as classification, regression, clustering, dimensionality reduction, model selection, and preprocessing.\n",
    "# scipy: a library for scientific computing in Python, provided a collection of mathematical algorithms and functionality such as optimization, interpolation, integration, linear algebra, signal processing, and statistics\n",
    "# sqldf: a Python library that provides a SQL-like interface for querying pandas DataFrames using SQL syntax.\n"
   ]
  },
  {
   "cell_type": "markdown",
   "id": "2b9a9e28",
   "metadata": {},
   "source": [
    "# Approach"
   ]
  },
  {
   "cell_type": "code",
   "execution_count": 5,
   "id": "6d2c2a7e",
   "metadata": {},
   "outputs": [],
   "source": [
    "# I plan to get data on interest rates, stock market index, and stock prices of Apple and Toyota companies. \n",
    "# I will then perform data cleaning, analysis, and statistical summary of each variable.\n",
    "# I will answer the questions of the final project by using Python programming language and various libraries.\n"
   ]
  },
  {
   "cell_type": "code",
   "execution_count": 33,
   "id": "8b73c9b7",
   "metadata": {},
   "outputs": [
    {
     "data": {
      "text/html": [
       "<div>\n",
       "<style scoped>\n",
       "    .dataframe tbody tr th:only-of-type {\n",
       "        vertical-align: middle;\n",
       "    }\n",
       "\n",
       "    .dataframe tbody tr th {\n",
       "        vertical-align: top;\n",
       "    }\n",
       "\n",
       "    .dataframe thead th {\n",
       "        text-align: right;\n",
       "    }\n",
       "</style>\n",
       "<table border=\"1\" class=\"dataframe\">\n",
       "  <thead>\n",
       "    <tr style=\"text-align: right;\">\n",
       "      <th></th>\n",
       "      <th>Date</th>\n",
       "      <th>4 WEEKS BANK DISCOUNT</th>\n",
       "      <th>4 WEEKS COUPON EQUIVALENT</th>\n",
       "      <th>8 WEEKS BANK DISCOUNT</th>\n",
       "      <th>8 WEEKS COUPON EQUIVALENT</th>\n",
       "      <th>13 WEEKS BANK DISCOUNT</th>\n",
       "      <th>13 WEEKS COUPON EQUIVALENT</th>\n",
       "      <th>26 WEEKS BANK DISCOUNT</th>\n",
       "      <th>26 WEEKS COUPON EQUIVALENT</th>\n",
       "      <th>52 WEEKS BANK DISCOUNT</th>\n",
       "      <th>52 WEEKS COUPON EQUIVALENT</th>\n",
       "      <th>Id</th>\n",
       "    </tr>\n",
       "  </thead>\n",
       "  <tbody>\n",
       "    <tr>\n",
       "      <th>0</th>\n",
       "      <td>2023-05-24</td>\n",
       "      <td>5.62</td>\n",
       "      <td>5.74</td>\n",
       "      <td>5.06</td>\n",
       "      <td>5.18</td>\n",
       "      <td>5.21</td>\n",
       "      <td>5.37</td>\n",
       "      <td>5.17</td>\n",
       "      <td>5.40</td>\n",
       "      <td>4.88</td>\n",
       "      <td>5.15</td>\n",
       "      <td>1</td>\n",
       "    </tr>\n",
       "    <tr>\n",
       "      <th>1</th>\n",
       "      <td>2023-05-23</td>\n",
       "      <td>5.51</td>\n",
       "      <td>5.63</td>\n",
       "      <td>5.10</td>\n",
       "      <td>5.23</td>\n",
       "      <td>5.18</td>\n",
       "      <td>5.34</td>\n",
       "      <td>5.14</td>\n",
       "      <td>5.37</td>\n",
       "      <td>4.82</td>\n",
       "      <td>5.08</td>\n",
       "      <td>2</td>\n",
       "    </tr>\n",
       "    <tr>\n",
       "      <th>2</th>\n",
       "      <td>2023-05-22</td>\n",
       "      <td>5.50</td>\n",
       "      <td>5.62</td>\n",
       "      <td>5.19</td>\n",
       "      <td>5.32</td>\n",
       "      <td>5.24</td>\n",
       "      <td>5.40</td>\n",
       "      <td>5.17</td>\n",
       "      <td>5.40</td>\n",
       "      <td>4.81</td>\n",
       "      <td>5.07</td>\n",
       "      <td>3</td>\n",
       "    </tr>\n",
       "    <tr>\n",
       "      <th>3</th>\n",
       "      <td>2023-05-19</td>\n",
       "      <td>5.41</td>\n",
       "      <td>5.52</td>\n",
       "      <td>5.11</td>\n",
       "      <td>5.24</td>\n",
       "      <td>5.12</td>\n",
       "      <td>5.27</td>\n",
       "      <td>5.11</td>\n",
       "      <td>5.33</td>\n",
       "      <td>4.77</td>\n",
       "      <td>5.03</td>\n",
       "      <td>4</td>\n",
       "    </tr>\n",
       "    <tr>\n",
       "      <th>4</th>\n",
       "      <td>2023-05-18</td>\n",
       "      <td>5.38</td>\n",
       "      <td>5.49</td>\n",
       "      <td>5.06</td>\n",
       "      <td>5.19</td>\n",
       "      <td>5.14</td>\n",
       "      <td>5.29</td>\n",
       "      <td>5.13</td>\n",
       "      <td>5.35</td>\n",
       "      <td>4.76</td>\n",
       "      <td>5.02</td>\n",
       "      <td>5</td>\n",
       "    </tr>\n",
       "  </tbody>\n",
       "</table>\n",
       "</div>"
      ],
      "text/plain": [
       "         Date  4 WEEKS BANK DISCOUNT  4 WEEKS COUPON EQUIVALENT  \\\n",
       "0  2023-05-24                   5.62                       5.74   \n",
       "1  2023-05-23                   5.51                       5.63   \n",
       "2  2023-05-22                   5.50                       5.62   \n",
       "3  2023-05-19                   5.41                       5.52   \n",
       "4  2023-05-18                   5.38                       5.49   \n",
       "\n",
       "   8 WEEKS BANK DISCOUNT  8 WEEKS COUPON EQUIVALENT  13 WEEKS BANK DISCOUNT  \\\n",
       "0                   5.06                       5.18                    5.21   \n",
       "1                   5.10                       5.23                    5.18   \n",
       "2                   5.19                       5.32                    5.24   \n",
       "3                   5.11                       5.24                    5.12   \n",
       "4                   5.06                       5.19                    5.14   \n",
       "\n",
       "   13 WEEKS COUPON EQUIVALENT  26 WEEKS BANK DISCOUNT  \\\n",
       "0                        5.37                    5.17   \n",
       "1                        5.34                    5.14   \n",
       "2                        5.40                    5.17   \n",
       "3                        5.27                    5.11   \n",
       "4                        5.29                    5.13   \n",
       "\n",
       "   26 WEEKS COUPON EQUIVALENT  52 WEEKS BANK DISCOUNT  \\\n",
       "0                        5.40                    4.88   \n",
       "1                        5.37                    4.82   \n",
       "2                        5.40                    4.81   \n",
       "3                        5.33                    4.77   \n",
       "4                        5.35                    4.76   \n",
       "\n",
       "   52 WEEKS COUPON EQUIVALENT  Id  \n",
       "0                        5.15   1  \n",
       "1                        5.08   2  \n",
       "2                        5.07   3  \n",
       "3                        5.03   4  \n",
       "4                        5.02   5  "
      ]
     },
     "execution_count": 33,
     "metadata": {},
     "output_type": "execute_result"
    }
   ],
   "source": [
    "# Import pandas library\n",
    "import pandas as pd\n",
    "\n",
    "# Load the interest rates data into a pandas dataframe\n",
    "rate = pd.read_csv('C:\\\\DSC530\\\\FinalProject\\\\interest_rate_final.csv')\n",
    "# Display few rows in the rate dataset.\n",
    "rate.head()"
   ]
  },
  {
   "cell_type": "code",
   "execution_count": 34,
   "id": "5918132c",
   "metadata": {},
   "outputs": [
    {
     "data": {
      "text/html": [
       "<div>\n",
       "<style scoped>\n",
       "    .dataframe tbody tr th:only-of-type {\n",
       "        vertical-align: middle;\n",
       "    }\n",
       "\n",
       "    .dataframe tbody tr th {\n",
       "        vertical-align: top;\n",
       "    }\n",
       "\n",
       "    .dataframe thead th {\n",
       "        text-align: right;\n",
       "    }\n",
       "</style>\n",
       "<table border=\"1\" class=\"dataframe\">\n",
       "  <thead>\n",
       "    <tr style=\"text-align: right;\">\n",
       "      <th></th>\n",
       "      <th>Date</th>\n",
       "      <th>Open</th>\n",
       "      <th>High</th>\n",
       "      <th>Low</th>\n",
       "      <th>Close</th>\n",
       "      <th>Adj Close**</th>\n",
       "      <th>Volume</th>\n",
       "    </tr>\n",
       "  </thead>\n",
       "  <tbody>\n",
       "    <tr>\n",
       "      <th>0</th>\n",
       "      <td>2023-05-23</td>\n",
       "      <td>4176.80</td>\n",
       "      <td>4185.68</td>\n",
       "      <td>4142.54</td>\n",
       "      <td>4145.58</td>\n",
       "      <td>4145.58</td>\n",
       "      <td>4155320000</td>\n",
       "    </tr>\n",
       "    <tr>\n",
       "      <th>1</th>\n",
       "      <td>2023-05-22</td>\n",
       "      <td>4190.78</td>\n",
       "      <td>4209.22</td>\n",
       "      <td>4179.68</td>\n",
       "      <td>4192.63</td>\n",
       "      <td>4192.63</td>\n",
       "      <td>3728520000</td>\n",
       "    </tr>\n",
       "    <tr>\n",
       "      <th>2</th>\n",
       "      <td>2023-05-19</td>\n",
       "      <td>4204.15</td>\n",
       "      <td>4212.91</td>\n",
       "      <td>4180.20</td>\n",
       "      <td>4191.98</td>\n",
       "      <td>4191.98</td>\n",
       "      <td>4041900000</td>\n",
       "    </tr>\n",
       "    <tr>\n",
       "      <th>3</th>\n",
       "      <td>2023-05-18</td>\n",
       "      <td>4157.68</td>\n",
       "      <td>4202.20</td>\n",
       "      <td>4153.50</td>\n",
       "      <td>4198.05</td>\n",
       "      <td>4198.05</td>\n",
       "      <td>3980500000</td>\n",
       "    </tr>\n",
       "    <tr>\n",
       "      <th>4</th>\n",
       "      <td>2023-05-17</td>\n",
       "      <td>4122.85</td>\n",
       "      <td>4164.67</td>\n",
       "      <td>4113.62</td>\n",
       "      <td>4158.77</td>\n",
       "      <td>4158.77</td>\n",
       "      <td>4039080000</td>\n",
       "    </tr>\n",
       "  </tbody>\n",
       "</table>\n",
       "</div>"
      ],
      "text/plain": [
       "         Date     Open     High      Low    Close  Adj Close**      Volume\n",
       "0  2023-05-23  4176.80  4185.68  4142.54  4145.58      4145.58  4155320000\n",
       "1  2023-05-22  4190.78  4209.22  4179.68  4192.63      4192.63  3728520000\n",
       "2  2023-05-19  4204.15  4212.91  4180.20  4191.98      4191.98  4041900000\n",
       "3  2023-05-18  4157.68  4202.20  4153.50  4198.05      4198.05  3980500000\n",
       "4  2023-05-17  4122.85  4164.67  4113.62  4158.77      4158.77  4039080000"
      ]
     },
     "execution_count": 34,
     "metadata": {},
     "output_type": "execute_result"
    }
   ],
   "source": [
    "# Load the stock market index data into a pandas dataframe\n",
    "spx = pd.read_csv('C:\\\\DSC530\\\\FinalProject\\\\sp500_index.csv')\n",
    "# Display few rows in the spx dataset.\n",
    "spx.head()"
   ]
  },
  {
   "cell_type": "code",
   "execution_count": 35,
   "id": "eb3cb12e",
   "metadata": {},
   "outputs": [
    {
     "data": {
      "text/html": [
       "<div>\n",
       "<style scoped>\n",
       "    .dataframe tbody tr th:only-of-type {\n",
       "        vertical-align: middle;\n",
       "    }\n",
       "\n",
       "    .dataframe tbody tr th {\n",
       "        vertical-align: top;\n",
       "    }\n",
       "\n",
       "    .dataframe thead th {\n",
       "        text-align: right;\n",
       "    }\n",
       "</style>\n",
       "<table border=\"1\" class=\"dataframe\">\n",
       "  <thead>\n",
       "    <tr style=\"text-align: right;\">\n",
       "      <th></th>\n",
       "      <th>Date</th>\n",
       "      <th>Open</th>\n",
       "      <th>High</th>\n",
       "      <th>Low</th>\n",
       "      <th>Close</th>\n",
       "      <th>Adj Close</th>\n",
       "      <th>Volume</th>\n",
       "    </tr>\n",
       "  </thead>\n",
       "  <tbody>\n",
       "    <tr>\n",
       "      <th>0</th>\n",
       "      <td>2023-05-23</td>\n",
       "      <td>173.130005</td>\n",
       "      <td>173.380005</td>\n",
       "      <td>171.279999</td>\n",
       "      <td>171.559998</td>\n",
       "      <td>171.559998</td>\n",
       "      <td>50747300</td>\n",
       "    </tr>\n",
       "    <tr>\n",
       "      <th>1</th>\n",
       "      <td>2023-05-22</td>\n",
       "      <td>173.979996</td>\n",
       "      <td>174.710007</td>\n",
       "      <td>173.449997</td>\n",
       "      <td>174.199997</td>\n",
       "      <td>174.199997</td>\n",
       "      <td>43570900</td>\n",
       "    </tr>\n",
       "    <tr>\n",
       "      <th>2</th>\n",
       "      <td>2023-05-19</td>\n",
       "      <td>176.389999</td>\n",
       "      <td>176.389999</td>\n",
       "      <td>174.940002</td>\n",
       "      <td>175.160004</td>\n",
       "      <td>175.160004</td>\n",
       "      <td>55772400</td>\n",
       "    </tr>\n",
       "    <tr>\n",
       "      <th>3</th>\n",
       "      <td>2023-05-18</td>\n",
       "      <td>173.000000</td>\n",
       "      <td>175.240005</td>\n",
       "      <td>172.580002</td>\n",
       "      <td>175.050003</td>\n",
       "      <td>175.050003</td>\n",
       "      <td>65496700</td>\n",
       "    </tr>\n",
       "    <tr>\n",
       "      <th>4</th>\n",
       "      <td>2023-05-17</td>\n",
       "      <td>171.710007</td>\n",
       "      <td>172.929993</td>\n",
       "      <td>170.419998</td>\n",
       "      <td>172.690002</td>\n",
       "      <td>172.690002</td>\n",
       "      <td>57951600</td>\n",
       "    </tr>\n",
       "  </tbody>\n",
       "</table>\n",
       "</div>"
      ],
      "text/plain": [
       "         Date        Open        High         Low       Close   Adj Close  \\\n",
       "0  2023-05-23  173.130005  173.380005  171.279999  171.559998  171.559998   \n",
       "1  2023-05-22  173.979996  174.710007  173.449997  174.199997  174.199997   \n",
       "2  2023-05-19  176.389999  176.389999  174.940002  175.160004  175.160004   \n",
       "3  2023-05-18  173.000000  175.240005  172.580002  175.050003  175.050003   \n",
       "4  2023-05-17  171.710007  172.929993  170.419998  172.690002  172.690002   \n",
       "\n",
       "     Volume  \n",
       "0  50747300  \n",
       "1  43570900  \n",
       "2  55772400  \n",
       "3  65496700  \n",
       "4  57951600  "
      ]
     },
     "execution_count": 35,
     "metadata": {},
     "output_type": "execute_result"
    }
   ],
   "source": [
    "# Load the Apple stock prices data into a pandas dataframe\n",
    "aapl = pd.read_csv('C:\\\\DSC530\\\\FinalProject\\\\aapl_stock_prices.csv')\n",
    "# Display few rows in the aapl dataset.\n",
    "aapl.head()"
   ]
  },
  {
   "cell_type": "code",
   "execution_count": 36,
   "id": "d55e169e",
   "metadata": {},
   "outputs": [
    {
     "data": {
      "text/html": [
       "<div>\n",
       "<style scoped>\n",
       "    .dataframe tbody tr th:only-of-type {\n",
       "        vertical-align: middle;\n",
       "    }\n",
       "\n",
       "    .dataframe tbody tr th {\n",
       "        vertical-align: top;\n",
       "    }\n",
       "\n",
       "    .dataframe thead th {\n",
       "        text-align: right;\n",
       "    }\n",
       "</style>\n",
       "<table border=\"1\" class=\"dataframe\">\n",
       "  <thead>\n",
       "    <tr style=\"text-align: right;\">\n",
       "      <th></th>\n",
       "      <th>Date</th>\n",
       "      <th>Open</th>\n",
       "      <th>High</th>\n",
       "      <th>Low</th>\n",
       "      <th>Close</th>\n",
       "      <th>Adj Close</th>\n",
       "      <th>Volume</th>\n",
       "    </tr>\n",
       "  </thead>\n",
       "  <tbody>\n",
       "    <tr>\n",
       "      <th>0</th>\n",
       "      <td>2023-05-23</td>\n",
       "      <td>138.550003</td>\n",
       "      <td>140.320007</td>\n",
       "      <td>138.509995</td>\n",
       "      <td>139.550003</td>\n",
       "      <td>139.550003</td>\n",
       "      <td>230000</td>\n",
       "    </tr>\n",
       "    <tr>\n",
       "      <th>1</th>\n",
       "      <td>2023-05-22</td>\n",
       "      <td>141.660004</td>\n",
       "      <td>141.710007</td>\n",
       "      <td>140.830002</td>\n",
       "      <td>141.190002</td>\n",
       "      <td>141.190002</td>\n",
       "      <td>194400</td>\n",
       "    </tr>\n",
       "    <tr>\n",
       "      <th>2</th>\n",
       "      <td>2023-05-19</td>\n",
       "      <td>142.070007</td>\n",
       "      <td>142.440002</td>\n",
       "      <td>141.710007</td>\n",
       "      <td>142.220001</td>\n",
       "      <td>142.220001</td>\n",
       "      <td>178400</td>\n",
       "    </tr>\n",
       "    <tr>\n",
       "      <th>3</th>\n",
       "      <td>2023-05-18</td>\n",
       "      <td>142.759995</td>\n",
       "      <td>142.759995</td>\n",
       "      <td>141.639999</td>\n",
       "      <td>142.509995</td>\n",
       "      <td>142.509995</td>\n",
       "      <td>188900</td>\n",
       "    </tr>\n",
       "    <tr>\n",
       "      <th>4</th>\n",
       "      <td>2023-05-17</td>\n",
       "      <td>141.130005</td>\n",
       "      <td>142.179993</td>\n",
       "      <td>141.130005</td>\n",
       "      <td>142.020004</td>\n",
       "      <td>142.020004</td>\n",
       "      <td>164600</td>\n",
       "    </tr>\n",
       "  </tbody>\n",
       "</table>\n",
       "</div>"
      ],
      "text/plain": [
       "         Date        Open        High         Low       Close   Adj Close  \\\n",
       "0  2023-05-23  138.550003  140.320007  138.509995  139.550003  139.550003   \n",
       "1  2023-05-22  141.660004  141.710007  140.830002  141.190002  141.190002   \n",
       "2  2023-05-19  142.070007  142.440002  141.710007  142.220001  142.220001   \n",
       "3  2023-05-18  142.759995  142.759995  141.639999  142.509995  142.509995   \n",
       "4  2023-05-17  141.130005  142.179993  141.130005  142.020004  142.020004   \n",
       "\n",
       "   Volume  \n",
       "0  230000  \n",
       "1  194400  \n",
       "2  178400  \n",
       "3  188900  \n",
       "4  164600  "
      ]
     },
     "execution_count": 36,
     "metadata": {},
     "output_type": "execute_result"
    }
   ],
   "source": [
    "# Load the Toyota stock prices data into a pandas dataframe\n",
    "toyota = pd.read_csv('C:\\\\DSC530\\\\FinalProject\\\\toyota_stock_prices.csv')\n",
    "# Display few rows in the toyota dataset.\n",
    "toyota.head()"
   ]
  },
  {
   "cell_type": "code",
   "execution_count": 37,
   "id": "20e0f504",
   "metadata": {},
   "outputs": [
    {
     "data": {
      "text/html": [
       "<div>\n",
       "<style scoped>\n",
       "    .dataframe tbody tr th:only-of-type {\n",
       "        vertical-align: middle;\n",
       "    }\n",
       "\n",
       "    .dataframe tbody tr th {\n",
       "        vertical-align: top;\n",
       "    }\n",
       "\n",
       "    .dataframe thead th {\n",
       "        text-align: right;\n",
       "    }\n",
       "</style>\n",
       "<table border=\"1\" class=\"dataframe\">\n",
       "  <thead>\n",
       "    <tr style=\"text-align: right;\">\n",
       "      <th></th>\n",
       "      <th>Date</th>\n",
       "      <th>4 WEEKS BANK DISCOUNT</th>\n",
       "      <th>4 WEEKS COUPON EQUIVALENT</th>\n",
       "      <th>8 WEEKS BANK DISCOUNT</th>\n",
       "      <th>8 WEEKS COUPON EQUIVALENT</th>\n",
       "      <th>13 WEEKS BANK DISCOUNT</th>\n",
       "      <th>13 WEEKS COUPON EQUIVALENT</th>\n",
       "      <th>26 WEEKS BANK DISCOUNT</th>\n",
       "      <th>26 WEEKS COUPON EQUIVALENT</th>\n",
       "      <th>52 WEEKS BANK DISCOUNT</th>\n",
       "      <th>daily_rate</th>\n",
       "      <th>Id</th>\n",
       "    </tr>\n",
       "  </thead>\n",
       "  <tbody>\n",
       "    <tr>\n",
       "      <th>0</th>\n",
       "      <td>2023-05-24</td>\n",
       "      <td>5.62</td>\n",
       "      <td>5.74</td>\n",
       "      <td>5.06</td>\n",
       "      <td>5.18</td>\n",
       "      <td>5.21</td>\n",
       "      <td>5.37</td>\n",
       "      <td>5.17</td>\n",
       "      <td>5.40</td>\n",
       "      <td>4.88</td>\n",
       "      <td>5.15</td>\n",
       "      <td>1</td>\n",
       "    </tr>\n",
       "    <tr>\n",
       "      <th>1</th>\n",
       "      <td>2023-05-23</td>\n",
       "      <td>5.51</td>\n",
       "      <td>5.63</td>\n",
       "      <td>5.10</td>\n",
       "      <td>5.23</td>\n",
       "      <td>5.18</td>\n",
       "      <td>5.34</td>\n",
       "      <td>5.14</td>\n",
       "      <td>5.37</td>\n",
       "      <td>4.82</td>\n",
       "      <td>5.08</td>\n",
       "      <td>2</td>\n",
       "    </tr>\n",
       "    <tr>\n",
       "      <th>2</th>\n",
       "      <td>2023-05-22</td>\n",
       "      <td>5.50</td>\n",
       "      <td>5.62</td>\n",
       "      <td>5.19</td>\n",
       "      <td>5.32</td>\n",
       "      <td>5.24</td>\n",
       "      <td>5.40</td>\n",
       "      <td>5.17</td>\n",
       "      <td>5.40</td>\n",
       "      <td>4.81</td>\n",
       "      <td>5.07</td>\n",
       "      <td>3</td>\n",
       "    </tr>\n",
       "    <tr>\n",
       "      <th>3</th>\n",
       "      <td>2023-05-19</td>\n",
       "      <td>5.41</td>\n",
       "      <td>5.52</td>\n",
       "      <td>5.11</td>\n",
       "      <td>5.24</td>\n",
       "      <td>5.12</td>\n",
       "      <td>5.27</td>\n",
       "      <td>5.11</td>\n",
       "      <td>5.33</td>\n",
       "      <td>4.77</td>\n",
       "      <td>5.03</td>\n",
       "      <td>4</td>\n",
       "    </tr>\n",
       "    <tr>\n",
       "      <th>4</th>\n",
       "      <td>2023-05-18</td>\n",
       "      <td>5.38</td>\n",
       "      <td>5.49</td>\n",
       "      <td>5.06</td>\n",
       "      <td>5.19</td>\n",
       "      <td>5.14</td>\n",
       "      <td>5.29</td>\n",
       "      <td>5.13</td>\n",
       "      <td>5.35</td>\n",
       "      <td>4.76</td>\n",
       "      <td>5.02</td>\n",
       "      <td>5</td>\n",
       "    </tr>\n",
       "  </tbody>\n",
       "</table>\n",
       "</div>"
      ],
      "text/plain": [
       "         Date  4 WEEKS BANK DISCOUNT  4 WEEKS COUPON EQUIVALENT  \\\n",
       "0  2023-05-24                   5.62                       5.74   \n",
       "1  2023-05-23                   5.51                       5.63   \n",
       "2  2023-05-22                   5.50                       5.62   \n",
       "3  2023-05-19                   5.41                       5.52   \n",
       "4  2023-05-18                   5.38                       5.49   \n",
       "\n",
       "   8 WEEKS BANK DISCOUNT  8 WEEKS COUPON EQUIVALENT  13 WEEKS BANK DISCOUNT  \\\n",
       "0                   5.06                       5.18                    5.21   \n",
       "1                   5.10                       5.23                    5.18   \n",
       "2                   5.19                       5.32                    5.24   \n",
       "3                   5.11                       5.24                    5.12   \n",
       "4                   5.06                       5.19                    5.14   \n",
       "\n",
       "   13 WEEKS COUPON EQUIVALENT  26 WEEKS BANK DISCOUNT  \\\n",
       "0                        5.37                    5.17   \n",
       "1                        5.34                    5.14   \n",
       "2                        5.40                    5.17   \n",
       "3                        5.27                    5.11   \n",
       "4                        5.29                    5.13   \n",
       "\n",
       "   26 WEEKS COUPON EQUIVALENT  52 WEEKS BANK DISCOUNT  daily_rate  Id  \n",
       "0                        5.40                    4.88        5.15   1  \n",
       "1                        5.37                    4.82        5.08   2  \n",
       "2                        5.40                    4.81        5.07   3  \n",
       "3                        5.33                    4.77        5.03   4  \n",
       "4                        5.35                    4.76        5.02   5  "
      ]
     },
     "execution_count": 37,
     "metadata": {},
     "output_type": "execute_result"
    }
   ],
   "source": [
    "# In the rate dataset, rename col '52 WEEKS COUPON EQUIVALENT' to 'daily_rate'\n",
    "rate = rate.rename(columns={'52 WEEKS COUPON EQUIVALENT': 'daily_rate'})\n",
    "# Display few rows in the new rate dataset.\n",
    "rate.head()"
   ]
  },
  {
   "cell_type": "code",
   "execution_count": 38,
   "id": "58d95b99",
   "metadata": {},
   "outputs": [],
   "source": [
    "# import sqldf\n",
    "from pandasql import sqldf\n",
    "# Join rate variable with spx, aapl, and toyota variables to get relevent cols and\n",
    "# create 2 new cols spx_point_change and spx_indication in the final dataset.\n",
    "query = \"\"\"\n",
    "WITH CTE AS\n",
    "  (\n",
    "  select A.Date, A.Id, A.daily_rate,\n",
    "  B.[Close] as spx_closePrice, \n",
    "  C.[Close] as aapl_closePrice,\n",
    "  D.[Close] as toyota_closePrice\n",
    "  From rate as A\n",
    "  Inner Join spx AS B --join rate with spx\n",
    "  ON A.Date = B.Date\n",
    "  Inner Join aapl AS C --join rate with aapl\n",
    "  On A.Date = C.Date\n",
    "  Inner Join toyota AS D --join rate with toyota\n",
    "  ON A.Date = D.Date\n",
    " ) , CTE2 AS\n",
    " (\n",
    " Select\n",
    " Date, daily_rate, spx_closePrice,\n",
    " LEAD(spx_closePrice, 1) OVER(Order by Id) as Lead_spx,\n",
    " aapl_closePrice, toyota_closePrice\n",
    " From CTE\n",
    " )\n",
    " , CTE3 AS\n",
    " (\n",
    " Select\n",
    " Date, daily_rate, spx_closePrice,\n",
    " (spx_closePrice - Lead_spx) AS spx_point_change,  --new col spx_point_change\n",
    " CASE WHEN (spx_closePrice-Lead_spx) < 0 THEN 'Down-day'\n",
    " WHEN (spx_closePrice-Lead_spx) > 0 THEN 'Up-day'\n",
    " END AS spx_Indication,  --new col spx_Indication\n",
    "  aapl_closePrice, toyota_closePrice\n",
    " From CTE2\n",
    " )\n",
    " Select\n",
    " Date, daily_rate, spx_closePrice, spx_point_change, \n",
    " spx_Indication, aapl_closePrice, toyota_closePrice\n",
    " From CTE3\n",
    " WHERE spx_point_change is not null AND spx_Indication is not null\n",
    "\"\"\"\n"
   ]
  },
  {
   "cell_type": "code",
   "execution_count": 39,
   "id": "59e84354",
   "metadata": {},
   "outputs": [],
   "source": [
    "# Run the query\n",
    "df_final = sqldf(query)"
   ]
  },
  {
   "cell_type": "code",
   "execution_count": 40,
   "id": "91739b52",
   "metadata": {},
   "outputs": [
    {
     "data": {
      "text/html": [
       "<div>\n",
       "<style scoped>\n",
       "    .dataframe tbody tr th:only-of-type {\n",
       "        vertical-align: middle;\n",
       "    }\n",
       "\n",
       "    .dataframe tbody tr th {\n",
       "        vertical-align: top;\n",
       "    }\n",
       "\n",
       "    .dataframe thead th {\n",
       "        text-align: right;\n",
       "    }\n",
       "</style>\n",
       "<table border=\"1\" class=\"dataframe\">\n",
       "  <thead>\n",
       "    <tr style=\"text-align: right;\">\n",
       "      <th></th>\n",
       "      <th>Date</th>\n",
       "      <th>daily_rate</th>\n",
       "      <th>spx_closePrice</th>\n",
       "      <th>spx_point_change</th>\n",
       "      <th>spx_Indication</th>\n",
       "      <th>aapl_closePrice</th>\n",
       "      <th>toyota_closePrice</th>\n",
       "    </tr>\n",
       "  </thead>\n",
       "  <tbody>\n",
       "    <tr>\n",
       "      <th>0</th>\n",
       "      <td>2023-05-23</td>\n",
       "      <td>5.08</td>\n",
       "      <td>4145.58</td>\n",
       "      <td>-47.05</td>\n",
       "      <td>Down-day</td>\n",
       "      <td>171.559998</td>\n",
       "      <td>139.550003</td>\n",
       "    </tr>\n",
       "    <tr>\n",
       "      <th>1</th>\n",
       "      <td>2023-05-22</td>\n",
       "      <td>5.07</td>\n",
       "      <td>4192.63</td>\n",
       "      <td>0.65</td>\n",
       "      <td>Up-day</td>\n",
       "      <td>174.199997</td>\n",
       "      <td>141.190002</td>\n",
       "    </tr>\n",
       "    <tr>\n",
       "      <th>2</th>\n",
       "      <td>2023-05-19</td>\n",
       "      <td>5.03</td>\n",
       "      <td>4191.98</td>\n",
       "      <td>-6.07</td>\n",
       "      <td>Down-day</td>\n",
       "      <td>175.160004</td>\n",
       "      <td>142.220001</td>\n",
       "    </tr>\n",
       "    <tr>\n",
       "      <th>3</th>\n",
       "      <td>2023-05-18</td>\n",
       "      <td>5.02</td>\n",
       "      <td>4198.05</td>\n",
       "      <td>39.28</td>\n",
       "      <td>Up-day</td>\n",
       "      <td>175.050003</td>\n",
       "      <td>142.509995</td>\n",
       "    </tr>\n",
       "    <tr>\n",
       "      <th>4</th>\n",
       "      <td>2023-05-17</td>\n",
       "      <td>4.91</td>\n",
       "      <td>4158.77</td>\n",
       "      <td>48.87</td>\n",
       "      <td>Up-day</td>\n",
       "      <td>172.690002</td>\n",
       "      <td>142.020004</td>\n",
       "    </tr>\n",
       "  </tbody>\n",
       "</table>\n",
       "</div>"
      ],
      "text/plain": [
       "         Date  daily_rate  spx_closePrice  spx_point_change spx_Indication  \\\n",
       "0  2023-05-23        5.08         4145.58            -47.05       Down-day   \n",
       "1  2023-05-22        5.07         4192.63              0.65         Up-day   \n",
       "2  2023-05-19        5.03         4191.98             -6.07       Down-day   \n",
       "3  2023-05-18        5.02         4198.05             39.28         Up-day   \n",
       "4  2023-05-17        4.91         4158.77             48.87         Up-day   \n",
       "\n",
       "   aapl_closePrice  toyota_closePrice  \n",
       "0       171.559998         139.550003  \n",
       "1       174.199997         141.190002  \n",
       "2       175.160004         142.220001  \n",
       "3       175.050003         142.509995  \n",
       "4       172.690002         142.020004  "
      ]
     },
     "execution_count": 40,
     "metadata": {},
     "output_type": "execute_result"
    }
   ],
   "source": [
    "# Display few rows in the final dataset \n",
    "df_final.head()"
   ]
  },
  {
   "cell_type": "code",
   "execution_count": 41,
   "id": "59c773ce",
   "metadata": {},
   "outputs": [],
   "source": [
    "# Data cleaning"
   ]
  },
  {
   "cell_type": "code",
   "execution_count": 42,
   "id": "8aa2195e",
   "metadata": {},
   "outputs": [
    {
     "data": {
      "text/plain": [
       "(1097, 7)"
      ]
     },
     "execution_count": 42,
     "metadata": {},
     "output_type": "execute_result"
    }
   ],
   "source": [
    "df_final.shape"
   ]
  },
  {
   "cell_type": "code",
   "execution_count": 43,
   "id": "e87b83ee",
   "metadata": {},
   "outputs": [],
   "source": [
    "# The final dataset has 1097 records and 7 columns."
   ]
  },
  {
   "cell_type": "code",
   "execution_count": 44,
   "id": "90cc71dc",
   "metadata": {},
   "outputs": [
    {
     "name": "stdout",
     "output_type": "stream",
     "text": [
      "<class 'pandas.core.frame.DataFrame'>\n",
      "RangeIndex: 1097 entries, 0 to 1096\n",
      "Data columns (total 7 columns):\n",
      " #   Column             Non-Null Count  Dtype  \n",
      "---  ------             --------------  -----  \n",
      " 0   Date               1097 non-null   object \n",
      " 1   daily_rate         1097 non-null   float64\n",
      " 2   spx_closePrice     1097 non-null   float64\n",
      " 3   spx_point_change   1097 non-null   float64\n",
      " 4   spx_Indication     1097 non-null   object \n",
      " 5   aapl_closePrice    1097 non-null   float64\n",
      " 6   toyota_closePrice  1097 non-null   float64\n",
      "dtypes: float64(5), object(2)\n",
      "memory usage: 60.1+ KB\n"
     ]
    }
   ],
   "source": [
    "df_final.info()"
   ]
  },
  {
   "cell_type": "code",
   "execution_count": 45,
   "id": "3858cec6",
   "metadata": {},
   "outputs": [],
   "source": [
    "# Check datatype of the final dataset."
   ]
  },
  {
   "cell_type": "code",
   "execution_count": 46,
   "id": "8857ceb1",
   "metadata": {},
   "outputs": [
    {
     "data": {
      "text/plain": [
       "Date                 0\n",
       "daily_rate           0\n",
       "spx_closePrice       0\n",
       "spx_point_change     0\n",
       "spx_Indication       0\n",
       "aapl_closePrice      0\n",
       "toyota_closePrice    0\n",
       "dtype: int64"
      ]
     },
     "execution_count": 46,
     "metadata": {},
     "output_type": "execute_result"
    }
   ],
   "source": [
    "df_final.isnull().sum()"
   ]
  },
  {
   "cell_type": "code",
   "execution_count": 47,
   "id": "da6a112e",
   "metadata": {},
   "outputs": [],
   "source": [
    "# There is no missing values in the final dataset."
   ]
  },
  {
   "cell_type": "code",
   "execution_count": 48,
   "id": "b2cbc97f",
   "metadata": {},
   "outputs": [
    {
     "data": {
      "text/html": [
       "<div>\n",
       "<style scoped>\n",
       "    .dataframe tbody tr th:only-of-type {\n",
       "        vertical-align: middle;\n",
       "    }\n",
       "\n",
       "    .dataframe tbody tr th {\n",
       "        vertical-align: top;\n",
       "    }\n",
       "\n",
       "    .dataframe thead th {\n",
       "        text-align: right;\n",
       "    }\n",
       "</style>\n",
       "<table border=\"1\" class=\"dataframe\">\n",
       "  <thead>\n",
       "    <tr style=\"text-align: right;\">\n",
       "      <th></th>\n",
       "      <th>daily_rate</th>\n",
       "      <th>spx_closePrice</th>\n",
       "      <th>spx_point_change</th>\n",
       "      <th>aapl_closePrice</th>\n",
       "      <th>toyota_closePrice</th>\n",
       "    </tr>\n",
       "  </thead>\n",
       "  <tbody>\n",
       "    <tr>\n",
       "      <th>count</th>\n",
       "      <td>1097.000000</td>\n",
       "      <td>1097.000000</td>\n",
       "      <td>1097.000000</td>\n",
       "      <td>1097.000000</td>\n",
       "      <td>1097.000000</td>\n",
       "    </tr>\n",
       "    <tr>\n",
       "      <th>mean</th>\n",
       "      <td>1.632261</td>\n",
       "      <td>3662.979253</td>\n",
       "      <td>1.490930</td>\n",
       "      <td>114.725704</td>\n",
       "      <td>146.739991</td>\n",
       "    </tr>\n",
       "    <tr>\n",
       "      <th>std</th>\n",
       "      <td>1.631802</td>\n",
       "      <td>617.786085</td>\n",
       "      <td>47.484855</td>\n",
       "      <td>43.340963</td>\n",
       "      <td>21.268212</td>\n",
       "    </tr>\n",
       "    <tr>\n",
       "      <th>min</th>\n",
       "      <td>0.040000</td>\n",
       "      <td>2237.400000</td>\n",
       "      <td>-324.890000</td>\n",
       "      <td>35.547501</td>\n",
       "      <td>108.500000</td>\n",
       "    </tr>\n",
       "    <tr>\n",
       "      <th>25%</th>\n",
       "      <td>0.130000</td>\n",
       "      <td>3046.770000</td>\n",
       "      <td>-18.730000</td>\n",
       "      <td>70.699997</td>\n",
       "      <td>130.949997</td>\n",
       "    </tr>\n",
       "    <tr>\n",
       "      <th>50%</th>\n",
       "      <td>1.530000</td>\n",
       "      <td>3798.910000</td>\n",
       "      <td>3.150000</td>\n",
       "      <td>127.830002</td>\n",
       "      <td>141.179993</td>\n",
       "    </tr>\n",
       "    <tr>\n",
       "      <th>75%</th>\n",
       "      <td>2.540000</td>\n",
       "      <td>4158.240000</td>\n",
       "      <td>25.090000</td>\n",
       "      <td>149.550003</td>\n",
       "      <td>159.289993</td>\n",
       "    </tr>\n",
       "    <tr>\n",
       "      <th>max</th>\n",
       "      <td>5.250000</td>\n",
       "      <td>4796.560000</td>\n",
       "      <td>230.380000</td>\n",
       "      <td>182.009995</td>\n",
       "      <td>211.369995</td>\n",
       "    </tr>\n",
       "  </tbody>\n",
       "</table>\n",
       "</div>"
      ],
      "text/plain": [
       "        daily_rate  spx_closePrice  spx_point_change  aapl_closePrice  \\\n",
       "count  1097.000000     1097.000000       1097.000000      1097.000000   \n",
       "mean      1.632261     3662.979253          1.490930       114.725704   \n",
       "std       1.631802      617.786085         47.484855        43.340963   \n",
       "min       0.040000     2237.400000       -324.890000        35.547501   \n",
       "25%       0.130000     3046.770000        -18.730000        70.699997   \n",
       "50%       1.530000     3798.910000          3.150000       127.830002   \n",
       "75%       2.540000     4158.240000         25.090000       149.550003   \n",
       "max       5.250000     4796.560000        230.380000       182.009995   \n",
       "\n",
       "       toyota_closePrice  \n",
       "count        1097.000000  \n",
       "mean          146.739991  \n",
       "std            21.268212  \n",
       "min           108.500000  \n",
       "25%           130.949997  \n",
       "50%           141.179993  \n",
       "75%           159.289993  \n",
       "max           211.369995  "
      ]
     },
     "execution_count": 48,
     "metadata": {},
     "output_type": "execute_result"
    }
   ],
   "source": [
    "df_final.describe()"
   ]
  },
  {
   "cell_type": "code",
   "execution_count": 49,
   "id": "8f356ab3",
   "metadata": {},
   "outputs": [],
   "source": [
    "# Statistical summary of the final dataset to check whether mean and median are close to each other.\n",
    "\n",
    "# daily_rate: positive skewed because mean > median.\n",
    "# spx_closePrice: negative skewed because mean < median.\n",
    "# spx_point_change: negative skewed because mean < median.\n",
    "# aapl_closePrice: negative skewed because mean < median.\n",
    "# toyota_closePrice: positive skewed because mean > median."
   ]
  },
  {
   "cell_type": "markdown",
   "id": "b8138313",
   "metadata": {},
   "source": [
    "# 1. Provide and describe what the 5 variables mean in the dataset."
   ]
  },
  {
   "cell_type": "code",
   "execution_count": 50,
   "id": "e4d6dce4",
   "metadata": {},
   "outputs": [
    {
     "data": {
      "text/html": [
       "<div>\n",
       "<style scoped>\n",
       "    .dataframe tbody tr th:only-of-type {\n",
       "        vertical-align: middle;\n",
       "    }\n",
       "\n",
       "    .dataframe tbody tr th {\n",
       "        vertical-align: top;\n",
       "    }\n",
       "\n",
       "    .dataframe thead th {\n",
       "        text-align: right;\n",
       "    }\n",
       "</style>\n",
       "<table border=\"1\" class=\"dataframe\">\n",
       "  <thead>\n",
       "    <tr style=\"text-align: right;\">\n",
       "      <th></th>\n",
       "      <th>Date</th>\n",
       "      <th>daily_rate</th>\n",
       "      <th>spx_closePrice</th>\n",
       "      <th>spx_point_change</th>\n",
       "      <th>spx_Indication</th>\n",
       "      <th>aapl_closePrice</th>\n",
       "      <th>toyota_closePrice</th>\n",
       "    </tr>\n",
       "  </thead>\n",
       "  <tbody>\n",
       "    <tr>\n",
       "      <th>0</th>\n",
       "      <td>2023-05-23</td>\n",
       "      <td>5.08</td>\n",
       "      <td>4145.58</td>\n",
       "      <td>-47.05</td>\n",
       "      <td>Down-day</td>\n",
       "      <td>171.559998</td>\n",
       "      <td>139.550003</td>\n",
       "    </tr>\n",
       "    <tr>\n",
       "      <th>1</th>\n",
       "      <td>2023-05-22</td>\n",
       "      <td>5.07</td>\n",
       "      <td>4192.63</td>\n",
       "      <td>0.65</td>\n",
       "      <td>Up-day</td>\n",
       "      <td>174.199997</td>\n",
       "      <td>141.190002</td>\n",
       "    </tr>\n",
       "    <tr>\n",
       "      <th>2</th>\n",
       "      <td>2023-05-19</td>\n",
       "      <td>5.03</td>\n",
       "      <td>4191.98</td>\n",
       "      <td>-6.07</td>\n",
       "      <td>Down-day</td>\n",
       "      <td>175.160004</td>\n",
       "      <td>142.220001</td>\n",
       "    </tr>\n",
       "    <tr>\n",
       "      <th>3</th>\n",
       "      <td>2023-05-18</td>\n",
       "      <td>5.02</td>\n",
       "      <td>4198.05</td>\n",
       "      <td>39.28</td>\n",
       "      <td>Up-day</td>\n",
       "      <td>175.050003</td>\n",
       "      <td>142.509995</td>\n",
       "    </tr>\n",
       "    <tr>\n",
       "      <th>4</th>\n",
       "      <td>2023-05-17</td>\n",
       "      <td>4.91</td>\n",
       "      <td>4158.77</td>\n",
       "      <td>48.87</td>\n",
       "      <td>Up-day</td>\n",
       "      <td>172.690002</td>\n",
       "      <td>142.020004</td>\n",
       "    </tr>\n",
       "  </tbody>\n",
       "</table>\n",
       "</div>"
      ],
      "text/plain": [
       "         Date  daily_rate  spx_closePrice  spx_point_change spx_Indication  \\\n",
       "0  2023-05-23        5.08         4145.58            -47.05       Down-day   \n",
       "1  2023-05-22        5.07         4192.63              0.65         Up-day   \n",
       "2  2023-05-19        5.03         4191.98             -6.07       Down-day   \n",
       "3  2023-05-18        5.02         4198.05             39.28         Up-day   \n",
       "4  2023-05-17        4.91         4158.77             48.87         Up-day   \n",
       "\n",
       "   aapl_closePrice  toyota_closePrice  \n",
       "0       171.559998         139.550003  \n",
       "1       174.199997         141.190002  \n",
       "2       175.160004         142.220001  \n",
       "3       175.050003         142.509995  \n",
       "4       172.690002         142.020004  "
      ]
     },
     "execution_count": 50,
     "metadata": {},
     "output_type": "execute_result"
    }
   ],
   "source": [
    "df_final.head()"
   ]
  },
  {
   "cell_type": "code",
   "execution_count": 51,
   "id": "e9c5bb0a",
   "metadata": {},
   "outputs": [],
   "source": [
    "# In the final dataset, there are 7 variables such as:\n",
    "# Date: Trading date of the stock market.\n",
    "# daily_rate: The percentage at which an amount of money is borrowed or lent over a period of time.\n",
    "# spx_closePrice: The market price per share of the S&P 500 index which measures of the performance of a group of stocks in a particular stock market.\n",
    "# spx_point_change: The market price per share of the S&P 500 index changes daily in points.\n",
    "# spx_Indication: Up-day or Down-day of the S&P 500 index.\n",
    "# aapl_closePrice: The market price per share of Apple stock.\n",
    "# toyota_closePrice: The market price per share of Toyota stock."
   ]
  },
  {
   "cell_type": "markdown",
   "id": "4de6d45b",
   "metadata": {},
   "source": [
    "# 2. Include a histogram of each of the 5 variables – in your summary and analysis, identify any outliers and explain the reasoning for them being outliers and how you believe they should be handled "
   ]
  },
  {
   "cell_type": "code",
   "execution_count": 52,
   "id": "dcab3838",
   "metadata": {},
   "outputs": [],
   "source": [
    "# import few libraries\n",
    "import pandas as pd\n",
    "import numpy as np\n",
    "import matplotlib.pyplot as plt\n",
    "\n",
    "# Subset the data for the variables of interest:\n",
    "# interest rate, stock market index, Apple stock prices, and Toyota stock prices.\n",
    "interest_rate = df_final['daily_rate']\n",
    "stock_market = df_final['spx_closePrice']\n",
    "apple_stock = df_final['aapl_closePrice']\n",
    "toyota_stock = df_final['toyota_closePrice']"
   ]
  },
  {
   "cell_type": "code",
   "execution_count": 53,
   "id": "c28b3641",
   "metadata": {},
   "outputs": [],
   "source": [
    "# Analyzing Outliers for interest rates: I use 2 methods, histogram and z-scores, to check whether there are outliers.\n"
   ]
  },
  {
   "cell_type": "code",
   "execution_count": 54,
   "id": "d0225a99",
   "metadata": {},
   "outputs": [],
   "source": [
    "# Z-scores method for interest rates:\n",
    "# I can calculate the z-scores for each data point and determine if any values fall outside a certain threshold,\n",
    "# values that are more than a few standard deviations away from the mean can be considered outliers."
   ]
  },
  {
   "cell_type": "code",
   "execution_count": 55,
   "id": "0bca6a9c",
   "metadata": {},
   "outputs": [
    {
     "name": "stdout",
     "output_type": "stream",
     "text": [
      "Identified outliers:\n",
      "Series([], Name: daily_rate, dtype: float64)\n"
     ]
    }
   ],
   "source": [
    "# Calculate the mean, median, and standard deviation for interest rates\n",
    "mean = interest_rate.mean()\n",
    "median = interest_rate.median()\n",
    "std = interest_rate.std()\n",
    "\n",
    "# Define the threshold for outliers \n",
    "# which is set to more than 3 standard deviations away from the mean \n",
    "threshold = 3\n",
    "\n",
    "# Calculate the z-scores for each data point.\n",
    "# Subtracts the mean from each data point and then divides by the standard deviation to standardize the data.\n",
    "# Calculating the z-scores, I can determine how far each data point deviates from the mean in terms of standard deviations.\n",
    "# Positive z-scores indicate values above the mean, while negative z-scores indicate values below the mean.\n",
    "z_scores = (interest_rate - mean) / std\n",
    "\n",
    "# Identify the outliers based on the threshold.\n",
    "# The abs() function is used to take the absolute value of each z-score, \n",
    "# ensuring that both positive and negative deviations from the mean are considered.\n",
    "# The resulting outliers are stored in the outliers variable, \n",
    "# which contains the subset of \"interest_rate\" values that are identified as outliers \n",
    "# based on their z-scores exceeding the threshold of 3.\n",
    "outliers = interest_rate[abs(z_scores) > threshold]\n",
    "\n",
    "# Print the identified outliers\n",
    "print(\"Identified outliers:\")\n",
    "print(outliers)"
   ]
  },
  {
   "cell_type": "code",
   "execution_count": 56,
   "id": "001c512e",
   "metadata": {},
   "outputs": [],
   "source": [
    "# There is no outliers for interest rates in the z-scores method."
   ]
  },
  {
   "cell_type": "code",
   "execution_count": 57,
   "id": "0bd24718",
   "metadata": {},
   "outputs": [],
   "source": [
    "# Histogram method for interest rates:"
   ]
  },
  {
   "cell_type": "code",
   "execution_count": 58,
   "id": "74c10d06",
   "metadata": {},
   "outputs": [
    {
     "data": {
      "image/png": "[encoded data removed]",
      "text/plain": [
       "<Figure size 640x480 with 1 Axes>"
      ]
     },
     "metadata": {},
     "output_type": "display_data"
    }
   ],
   "source": [
    "# Interest rate histogram\n",
    "# The hist() function takes the variable of interest_rate as the first argument and \n",
    "# specifies additional parameters to customize the histogram. In this case:\n",
    "# bins=10 sets the number of bins (or bars) in the histogram to 10, which determines the granularity of the distribution.\n",
    "# alpha=0.6 sets the transparency level of the bars to 0.6, making them slightly transparent.\n",
    "# color='b' sets the color of the bars to blue\n",
    "# edgecolor='red' sets the color of the bar edges to red\n",
    "plt.hist(interest_rate, bins=10, alpha=0.6, color='b',edgecolor=\"red\")\n",
    "# This line sets the x-axis label of the histogram plot to 'Interest Rate (%)'.\n",
    "plt.xlabel('Interest Rate (%)')\n",
    "# This line sets the y-axis label of the histogram plot to 'Frequency', \n",
    "# representing the count or frequency of data points in each bin.\n",
    "plt.ylabel('Frequency')\n",
    "# This line sets the title of the histogram plot to 'Histogram of Interest Rates'.\n",
    "plt.title('Histogram of Interest Rates')\n",
    "# The resulting plot provides a visual representation of the distribution of the \"interest_rate\" variable, \n",
    "# allowing to observe the frequency or count of data points in different ranges of interest rates.\n",
    "plt.show()"
   ]
  },
  {
   "cell_type": "code",
   "execution_count": 59,
   "id": "f6af4653",
   "metadata": {},
   "outputs": [],
   "source": [
    "# In the histogram, I see interest rates of less than ~ 0.4% is considered as outliers. However, the z-scores method shows no outliers. \n",
    "# So, I decide to leave interest rates as it is, no removal."
   ]
  },
  {
   "cell_type": "code",
   "execution_count": 60,
   "id": "93c83733",
   "metadata": {},
   "outputs": [],
   "source": [
    "# Repeat the same for stock market index"
   ]
  },
  {
   "cell_type": "code",
   "execution_count": 61,
   "id": "d99e89b5",
   "metadata": {},
   "outputs": [],
   "source": [
    "# Z-scores method for stock market index:"
   ]
  },
  {
   "cell_type": "code",
   "execution_count": 62,
   "id": "44ae346f",
   "metadata": {},
   "outputs": [
    {
     "name": "stdout",
     "output_type": "stream",
     "text": [
      "Identified outliers:\n",
      "Series([], Name: spx_closePrice, dtype: float64)\n"
     ]
    }
   ],
   "source": [
    "# Calculate the mean, median, and standard deviation\n",
    "mean = stock_market.mean()\n",
    "median = stock_market.median()\n",
    "std = stock_market.std()\n",
    "\n",
    "# Define the threshold for outliers \n",
    "threshold = 3\n",
    "\n",
    "# Calculate the z-scores for each data point\n",
    "# which is set to more than 3 standard deviations away from the mean \n",
    "z_scores = (stock_market - mean) / std\n",
    "\n",
    "# Identify the outliers based on the threshold\n",
    "outliers = stock_market[abs(z_scores) > threshold]\n",
    "\n",
    "# Print the identified outliers\n",
    "print(\"Identified outliers:\")\n",
    "print(outliers)"
   ]
  },
  {
   "cell_type": "code",
   "execution_count": 63,
   "id": "9f92f9b4",
   "metadata": {},
   "outputs": [],
   "source": [
    "# There is no outliers for stock market index in the z-scores method."
   ]
  },
  {
   "cell_type": "code",
   "execution_count": 64,
   "id": "34cb4333",
   "metadata": {},
   "outputs": [],
   "source": [
    "# Histogram method for stock market index:"
   ]
  },
  {
   "cell_type": "code",
   "execution_count": 65,
   "id": "b7e0bff9",
   "metadata": {},
   "outputs": [
    {
     "data": {
      "image/png": "[encoded data removed]",
      "text/plain": [
       "<Figure size 640x480 with 1 Axes>"
      ]
     },
     "metadata": {},
     "output_type": "display_data"
    }
   ],
   "source": [
    "# Stock market index histogram\n",
    "\n",
    "plt.hist(stock_market, bins=10, alpha=0.6, color='g', edgecolor=\"red\")\n",
    "plt.xlabel('Stock Market Index')\n",
    "plt.ylabel('Frequency')\n",
    "plt.title('Histogram of Stock Market Index')\n",
    "plt.show()"
   ]
  },
  {
   "cell_type": "code",
   "execution_count": 66,
   "id": "4b7f27a6",
   "metadata": {},
   "outputs": [],
   "source": [
    "# In the histogram, I see stock market index of less than ~ 2500 is considered as outliers. However, the z-scores method shows no outliers. \n",
    "# So, I decide to leave stock market index as it is, no removal."
   ]
  },
  {
   "cell_type": "code",
   "execution_count": 67,
   "id": "5bdcb64c",
   "metadata": {},
   "outputs": [],
   "source": [
    "# Repeat the same for Apple stock prices"
   ]
  },
  {
   "cell_type": "code",
   "execution_count": 68,
   "id": "d70f46f2",
   "metadata": {},
   "outputs": [],
   "source": [
    "# Z-scores method for Apple stock prices:"
   ]
  },
  {
   "cell_type": "code",
   "execution_count": 69,
   "id": "040c7586",
   "metadata": {},
   "outputs": [
    {
     "name": "stdout",
     "output_type": "stream",
     "text": [
      "Identified outliers:\n",
      "Series([], Name: aapl_closePrice, dtype: float64)\n"
     ]
    }
   ],
   "source": [
    "# Calculate the mean, median, and standard deviation\n",
    "mean = apple_stock.mean()\n",
    "median = apple_stock.median()\n",
    "std = apple_stock.std()\n",
    "\n",
    "# Define the threshold for outliers \n",
    "threshold = 3\n",
    "\n",
    "# Calculate the z-scores for each data point\n",
    "# which is set to more than 3 standard deviations away from the mean \n",
    "z_scores = (apple_stock - mean) / std\n",
    "\n",
    "# Identify the outliers based on the threshold\n",
    "outliers = apple_stock[abs(z_scores) > threshold]\n",
    "\n",
    "# Print the identified outliers\n",
    "print(\"Identified outliers:\")\n",
    "print(outliers)"
   ]
  },
  {
   "cell_type": "code",
   "execution_count": 70,
   "id": "977564bb",
   "metadata": {},
   "outputs": [],
   "source": [
    "# There is no outliers for Apple stock prices in the z-scores method."
   ]
  },
  {
   "cell_type": "code",
   "execution_count": 71,
   "id": "35c805ba",
   "metadata": {},
   "outputs": [],
   "source": [
    "# Histogram method for Apple stock prices:"
   ]
  },
  {
   "cell_type": "code",
   "execution_count": 72,
   "id": "ef648020",
   "metadata": {},
   "outputs": [
    {
     "data": {
      "image/png": "[encoded data removed]",
      "text/plain": [
       "<Figure size 640x480 with 1 Axes>"
      ]
     },
     "metadata": {},
     "output_type": "display_data"
    }
   ],
   "source": [
    "# Apple stock price histogram\n",
    "\n",
    "plt.hist(apple_stock, bins=10, alpha=0.6, color='r', edgecolor=\"black\")\n",
    "plt.xlabel('Apple Stock Price ($)')\n",
    "plt.ylabel('Frequency')\n",
    "plt.title('Histogram of Apple Stock Prices')\n",
    "plt.show()"
   ]
  },
  {
   "cell_type": "code",
   "execution_count": 73,
   "id": "994593fc",
   "metadata": {},
   "outputs": [],
   "source": [
    "# In the histogram, I see Apple stock prices of between 95 - 110 is considered as outliers. However, the z-scores method shows no outliers. \n",
    "# So, I decide to leave Apple stock prices as it is, no removal."
   ]
  },
  {
   "cell_type": "code",
   "execution_count": 74,
   "id": "62b27b9f",
   "metadata": {},
   "outputs": [],
   "source": [
    "# Repeat the same for Toyota stock prices"
   ]
  },
  {
   "cell_type": "code",
   "execution_count": 75,
   "id": "e7cc4e9b",
   "metadata": {},
   "outputs": [],
   "source": [
    "# Z-scores method for Toyota stock prices:"
   ]
  },
  {
   "cell_type": "code",
   "execution_count": 76,
   "id": "4e204a6f",
   "metadata": {},
   "outputs": [
    {
     "name": "stdout",
     "output_type": "stream",
     "text": [
      "Identified outliers:\n",
      "337    210.690002\n",
      "338    211.369995\n",
      "Name: toyota_closePrice, dtype: float64\n"
     ]
    }
   ],
   "source": [
    "# Calculate the mean, median, and standard deviation\n",
    "mean = toyota_stock.mean()\n",
    "median = toyota_stock.median()\n",
    "std = toyota_stock.std()\n",
    "\n",
    "# Define the threshold for outliers \n",
    "threshold = 3\n",
    "\n",
    "# Calculate the z-scores for each data point\n",
    "# which is set to more than 3 standard deviations away from the mean \n",
    "z_scores = (toyota_stock - mean) / std\n",
    "\n",
    "# Identify the outliers based on the threshold\n",
    "outliers = toyota_stock[abs(z_scores) > threshold]\n",
    "\n",
    "# Print the identified outliers\n",
    "print(\"Identified outliers:\")\n",
    "print(outliers)"
   ]
  },
  {
   "cell_type": "code",
   "execution_count": 77,
   "id": "659a9143",
   "metadata": {},
   "outputs": [],
   "source": [
    "# There are few outliers points, 210.7 & 211.37 in the Toyota stock prices in the z-scores method, "
   ]
  },
  {
   "cell_type": "code",
   "execution_count": 78,
   "id": "c41ce564",
   "metadata": {},
   "outputs": [],
   "source": [
    "# Histogram method for Toyota stock prices:"
   ]
  },
  {
   "cell_type": "code",
   "execution_count": 79,
   "id": "425ab62f",
   "metadata": {},
   "outputs": [
    {
     "data": {
      "image/png": "[encoded data removed]",
      "text/plain": [
       "<Figure size 640x480 with 1 Axes>"
      ]
     },
     "metadata": {},
     "output_type": "display_data"
    }
   ],
   "source": [
    "# Toyota stock price histogram\n",
    "\n",
    "plt.hist(toyota_stock, bins=10, alpha=0.6, color='m', edgecolor=\"white\")\n",
    "plt.xlabel('Toyota Stock Price ($)')\n",
    "plt.ylabel('Frequency')\n",
    "plt.title('Histogram of Toyota Stock Prices')\n",
    "plt.show()"
   ]
  },
  {
   "cell_type": "code",
   "execution_count": 80,
   "id": "2b48fa37",
   "metadata": {},
   "outputs": [],
   "source": [
    "# In the histogram, I see Toyota stock prices of greater than 210 is considered as outliers. And the z-scores method shows 2 outliers too. \n",
    "# So, I decide to leave Toyota stock prices as it is because there is no big impact on the entire final dataset, 2 outliers out of 1097 records."
   ]
  },
  {
   "cell_type": "markdown",
   "id": "68aae84e",
   "metadata": {},
   "source": [
    "# 3.Include the other descriptive characteristics about the variables: Mean, Mode, Spread, and Tails "
   ]
  },
  {
   "cell_type": "code",
   "execution_count": 81,
   "id": "9d641d3c",
   "metadata": {},
   "outputs": [
    {
     "name": "stdout",
     "output_type": "stream",
     "text": [
      "Interest Rate:\n",
      "Mean: 1.632\n",
      "Median: 1.530\n",
      "Mode: 0.070\n",
      "Range: 5.210\n",
      "Standard Deviation: 1.631\n",
      "\n",
      "Stock Market Index:\n",
      "Mean: 3662.979\n",
      "Median: 3798.910\n",
      "Mode: 2926.460\n",
      "Range: 2559.160\n",
      "Standard Deviation: 617.504\n",
      "\n",
      "Apple Stock Price:\n",
      "Mean: 114.726\n",
      "Median: 127.830\n",
      "Mode: 145.860\n",
      "Range: 146.462\n",
      "Standard Deviation: 43.321\n",
      "\n",
      "Toyota Stock Price:\n",
      "Mean: 146.740\n",
      "Median: 141.180\n",
      "Mode: 122.790\n",
      "Range: 102.870\n",
      "Standard Deviation: 21.259\n"
     ]
    }
   ],
   "source": [
    "# Import pandas and numpy libraries\n",
    "import pandas as pd\n",
    "import numpy as np\n",
    "\n",
    "# Calculate the mean, mode, and measures of spread for each variable \n",
    "# This line calculates the mean (average) of the \"interest_rate\" variable using the mean() function from NumPy. \n",
    "interest_rate_mean = np.mean(interest_rate)\n",
    "# This line calculates the median of the \"interest_rate\" variable using the median() function from NumPy.\n",
    "interest_rate_median = np.median(interest_rate)\n",
    "# This line calculates the mode of the \"interest_rate\" variable using the mode() function from pandas.\n",
    "interest_rate_mode = interest_rate.mode().values[0]\n",
    "# This line calculates the range of the \"interest_rate\" variable using the ptp() function from NumPy. \n",
    "interest_rate_range = np.ptp(interest_rate)\n",
    "# This line calculates the standard deviation of the \"interest_rate\" variable using the std() function from NumPy.\n",
    "interest_rate_std = np.std(interest_rate)\n",
    "\n",
    "# Repeat the same for stock market. \n",
    "stock_market_mean = np.mean(stock_market)\n",
    "stock_market_median = np.median(stock_market)\n",
    "stock_market_mode = stock_market.mode().values[0]\n",
    "stock_market_range = np.ptp(stock_market)\n",
    "stock_market_std = np.std(stock_market)\n",
    "\n",
    "# Repeat the same for Apple stock.\n",
    "apple_stock_mean = np.mean(apple_stock)\n",
    "apple_stock_median = np.median(apple_stock)\n",
    "apple_stock_mode = apple_stock.mode().values[0]\n",
    "apple_stock_range = np.ptp(apple_stock)\n",
    "apple_stock_std = np.std(apple_stock)\n",
    "\n",
    "# Repeat the same for Toyota stock.\n",
    "toyota_stock_mean = np.mean(toyota_stock)\n",
    "toyota_stock_median = np.median(toyota_stock)\n",
    "toyota_stock_mode = toyota_stock.mode().values[0]\n",
    "toyota_stock_range = np.ptp(toyota_stock)\n",
    "toyota_stock_std = np.std(toyota_stock)\n",
    "\n",
    "# Print the results\n",
    "print('Interest Rate:')\n",
    "print('Mean: %.3f' % interest_rate_mean)\n",
    "print('Median: %.3f' % interest_rate_median)\n",
    "print('Mode: %.3f' % interest_rate_mode)\n",
    "print('Range: %.3f' % interest_rate_range)\n",
    "print('Standard Deviation: %.3f' % interest_rate_std)\n",
    "print('')\n",
    "\n",
    "print('Stock Market Index:')\n",
    "print('Mean: %.3f' % stock_market_mean)\n",
    "print('Median: %.3f' % stock_market_median)\n",
    "print('Mode: %.3f' % stock_market_mode)\n",
    "print('Range: %.3f' % stock_market_range)\n",
    "print('Standard Deviation: %.3f' % stock_market_std)\n",
    "print('')\n",
    "\n",
    "print('Apple Stock Price:')\n",
    "print('Mean: %.3f' % apple_stock_mean)\n",
    "print('Median: %.3f' % apple_stock_median)\n",
    "print('Mode: %.3f' % apple_stock_mode)\n",
    "print('Range: %.3f' % apple_stock_range)\n",
    "print('Standard Deviation: %.3f' % apple_stock_std)\n",
    "print('')\n",
    "\n",
    "print('Toyota Stock Price:')\n",
    "print('Mean: %.3f' % toyota_stock_mean)\n",
    "print('Median: %.3f' % toyota_stock_median)\n",
    "print('Mode: %.3f' % toyota_stock_mode)\n",
    "print('Range: %.3f' % toyota_stock_range)\n",
    "print('Standard Deviation: %.3f' % toyota_stock_std)"
   ]
  },
  {
   "cell_type": "code",
   "execution_count": 82,
   "id": "dae1533a",
   "metadata": {},
   "outputs": [],
   "source": [
    "# The mean represents the central tendency of the data, or the average value of the variable. \n",
    "# The median is the middle value of a data when the values are sorted in ascending or descending order\n",
    "# The mode represents the most common value in the data. \n",
    "# The range represents the difference between the maximum and minimum values in the data and measures the spread of the data. \n",
    "# The standard deviation represents the spread of the data around the mean and indicates how much the data varies from the average value.\n",
    "\n",
    "# By calculating these descriptive characteristics for each variable, \n",
    "# we can gain insights into the distribution of the data and the variability of each variable. \n",
    "# This information can help make informed decisions about how to model and analyze the variables."
   ]
  },
  {
   "cell_type": "markdown",
   "id": "62bba0f7",
   "metadata": {},
   "source": [
    "# 4.compare two scenarios in your data using a PMF. Reminder, this isn’t comparing two variables against each other – it is the same variable, but a different scenario. Almost like a filter. "
   ]
  },
  {
   "cell_type": "code",
   "execution_count": 83,
   "id": "aaa4ff67",
   "metadata": {},
   "outputs": [],
   "source": [
    "# A probability mass function (PMF) is a function that maps the values of a discrete random variable to their probabilities. \n",
    "# PMFs are useful for comparing two scenarios in a dataset because they allow us to visualize the distribution of probabilities for each scenario\n",
    "# I want to compare the PMF of the interest rates variable during two different time periods: \n",
    "# the period from 2019-2020 and the period from 2021-2022 \n",
    "# because I want to see the interest rates distribution before and after Covid pandemic."
   ]
  },
  {
   "cell_type": "code",
   "execution_count": 84,
   "id": "ffb655c3",
   "metadata": {},
   "outputs": [
    {
     "data": {
      "image/png": "[encoded data removed]",
      "text/plain": [
       "<Figure size 640x480 with 1 Axes>"
      ]
     },
     "metadata": {},
     "output_type": "display_data"
    }
   ],
   "source": [
    "# Cast \"Date\" variable to datetime datatype.\n",
    "df_final[\"Date\"] = pd.to_datetime(df_final[\"Date\"])\n",
    "df_final.head()\n",
    "\n",
    "# Subset the data for the two time periods\n",
    "# checks if each date in the 'Date' column is greater than or equal to '2019-01-01', which is the starting date of period 1.\n",
    "# and \n",
    "# checks if each date in the 'Date' column is less than or equal to '2020-12-31', which is the ending date of period 1.\n",
    "period_1 = df_final[(df_final['Date'] >= '2019-01-01') & (df_final['Date'] <= '2020-12-31')]\n",
    "# checks if each date in the 'Date' column is greater than or equal to '2021-01-01', which is the starting date of period 2.\n",
    "# and \n",
    "# checks if each date in the 'Date' column is less than or equal to '2022-12-31', which is the ending date of period 2.\n",
    "period_2 = df_final[(df_final['Date'] >= '2021-01-01') & (df_final['Date'] <= '2022-12-31')]\n",
    "\n",
    "# Create a PMF for each time period.\n",
    "# extract the 'daily_rate' column from the period_1 and period_2 DataFrames, respectively, \n",
    "# representing the interest rates for each time period.\n",
    "\n",
    "# value_counts(normalize=True) counts the occurrences of each unique value in the 'daily_rate' column and \n",
    "# normalizes the counts by dividing them by the total number of values. \n",
    "# This calculates the relative frequencies or probabilities of each unique value in the 'daily_rate' variable.\n",
    "\n",
    "# sort_index() sorts the values in the resulting Series by the index in ascending order.\n",
    "pmf_1 = period_1['daily_rate'].value_counts(normalize=True).sort_index()\n",
    "pmf_2 = period_2['daily_rate'].value_counts(normalize=True).sort_index()\n",
    "\n",
    "# Plot the PMFs\n",
    "plt.plot(pmf_1.index, pmf_1.values, label='2019-2020')\n",
    "plt.plot(pmf_2.index, pmf_2.values, label='2021-2022')\n",
    "plt.title('PMF of Interest Rates for Two Time Periods')\n",
    "plt.xlabel('Interest Rates')\n",
    "plt.ylabel('Probability')\n",
    "plt.legend()\n",
    "plt.show()"
   ]
  },
  {
   "cell_type": "code",
   "execution_count": 85,
   "id": "18a2ca9b",
   "metadata": {},
   "outputs": [],
   "source": [
    "# The PMFs for the two time periods show the probability distribution of interest rates during each time period. \n",
    "# By comparing the two PMFs, I can see whether the distribution of interest rates has shifted over time. \n",
    "# For example, if the PMF for the second time period is shifted to the right, \n",
    "# it would indicate that interest rates were higher on average during that time period."
   ]
  },
  {
   "cell_type": "markdown",
   "id": "118a85aa",
   "metadata": {},
   "source": [
    "# 5. Create 1 CDF with one of your variables what does this tell you about your variable and how does it address the question you are trying to answer "
   ]
  },
  {
   "cell_type": "code",
   "execution_count": 86,
   "id": "da9d0b5f",
   "metadata": {},
   "outputs": [
    {
     "data": {
      "image/png": "[encoded data removed]",
      "text/plain": [
       "<Figure size 640x480 with 1 Axes>"
      ]
     },
     "metadata": {},
     "output_type": "display_data"
    }
   ],
   "source": [
    "# Import few libraries\n",
    "import pandas as pd\n",
    "import numpy as np\n",
    "import matplotlib.pyplot as plt\n",
    "\n",
    "\n",
    "# Subset the data for the variable of interest\n",
    "apple_stock = df_final['aapl_closePrice']\n",
    "\n",
    "# Create a CDF for the Apple stock price variable.\n",
    "# This line sorts the values of the \"apple_stock\" variable in ascending order using the NumPy sort() function. \n",
    "# Sorting the values is necessary to calculate the cumulative probabilities accurately.\n",
    "x = np.sort(apple_stock)\n",
    "# This line creates an array y representing the cumulative probabilities corresponding to each value in x. \n",
    "# The np.arange(1, len(x)+1) generates an array of consecutive numbers from 1 to the length of x. \n",
    "# By dividing it by len(x), I obtain the cumulative probabilities ranging from 1/len(x) to 1. \n",
    "# The resulting y values represent the cumulative probability of observing a value less than or equal to the corresponding value in x.\n",
    "y = np.arange(1, len(x)+1) / len(x)\n",
    "\n",
    "\n",
    "# Plot the CDF\n",
    "plt.plot(x, y, marker='.', linestyle='none')\n",
    "plt.xlabel('Apple Stock Price ($)')\n",
    "plt.ylabel('Cumulative Probability')\n",
    "plt.title('CDF of Apple Stock Prices')\n",
    "plt.show()"
   ]
  },
  {
   "cell_type": "code",
   "execution_count": 87,
   "id": "ce7b0fc7",
   "metadata": {},
   "outputs": [],
   "source": [
    "# Creating a CDF for the Apple stock price variable. \n",
    "# I first sort the data in ascending order and calculate the cumulative probability for each data point. \n",
    "# I then plot the cumulative probability as a function of the Apple stock price to create the CDF.\n",
    "\n",
    "# By analyzing the CDF, I can gain insights into the distribution of the data and the likelihood of different outcomes. \n",
    "# I can see that the CDF starts at 0, indicating that there is a 0% chance of the Apple stock price being less than the minimum value in the dataset. \n",
    "# As moving along the x-axis, the cumulative probability increases, \n",
    "# indicating that higher Apple stock prices are becoming more likely.\n",
    "\n",
    "# using a CDF, I can also calculate percentiles and other summary statistics for the data. \n",
    "# For example, I can use the CDF to determine the value of the Apple stock price that corresponds to the 50th percentile (the median), \n",
    "# or the value that corresponds to the 95th percentile.\n",
    "\n",
    "# Overall, CDFs can be a useful tool for analyzing the distribution of data and \n",
    "# understanding the likelihood of different outcomes. \n",
    "# By analyzing the CDF, I can identify patterns in the data and make informed decisions \n",
    "# about how to model and analyze the variable."
   ]
  },
  {
   "cell_type": "markdown",
   "id": "b08ec4e4",
   "metadata": {},
   "source": [
    "# 6. Plot 1 analytical distribution and provide your analysis on how it applies to the dataset you have chosen "
   ]
  },
  {
   "cell_type": "code",
   "execution_count": 88,
   "id": "a6b567f2",
   "metadata": {},
   "outputs": [
    {
     "data": {
      "image/png": "[encoded data removed]",
      "text/plain": [
       "<Figure size 640x480 with 1 Axes>"
      ]
     },
     "metadata": {},
     "output_type": "display_data"
    }
   ],
   "source": [
    "# Import few libraries\n",
    "import pandas as pd\n",
    "import numpy as np\n",
    "import matplotlib.pyplot as plt\n",
    "from scipy.stats import norm\n",
    "\n",
    "\n",
    "# Subset the data for the variable of interest\n",
    "apple_stock = df_final['aapl_closePrice']\n",
    "\n",
    "# Calculate the mean and standard deviation of the data\n",
    "mean = np.mean(apple_stock)\n",
    "std = np.std(apple_stock)\n",
    "\n",
    "# Plot a normal distribution with the same mean and standard deviation of the data.\n",
    "# This line creates an array x using the NumPy linspace() function. \n",
    "# It generates 100 equally spaced values between mean - 3*std and mean + 3*std. \n",
    "# The purpose of this line is to define the x-axis values for the normal distribution plot.\n",
    "x = np.linspace(mean - 3*std, mean + 3*std, 100)\n",
    "# This line calculates the corresponding y-axis values for the normal distribution plot. \n",
    "# The norm.pdf() function from the SciPy library is used to compute the probability density function (PDF) of the normal distribution at each value in the x array. \n",
    "# The mean and std variables are used as the parameters for the normal distribution.\n",
    "y = norm.pdf(x, mean, std)\n",
    "plt.plot(x, y)\n",
    "\n",
    "# Plot a histogram of the data\n",
    "plt.hist(apple_stock, bins=15, alpha=0.6, color='g', edgecolor='r', density=True)\n",
    "\n",
    "# Label the axes and add a title\n",
    "plt.xlabel('Apple Stock Price ($)')\n",
    "plt.ylabel('Probability Density')\n",
    "plt.title('Normal Distribution of Apple Stock Prices')\n",
    "\n",
    "# Show the plot\n",
    "plt.show()"
   ]
  },
  {
   "cell_type": "code",
   "execution_count": 89,
   "id": "c68e95d1",
   "metadata": {},
   "outputs": [],
   "source": [
    "# Plotting a normal distribution and analyzing how it applies to the Apple stock price variable. \n",
    "# I first calculate the mean and standard deviation of the data, which I use as the parameters for the normal distribution. \n",
    "# I then plot the normal distribution on the same graph as a histogram of the data.\n",
    "\n",
    "# Analyzing the plot, I can gain insights into how well the normal distribution fits the data. \n",
    "# I can see that the normal distribution fits the data reasonably well, \n",
    "# with the peak of the distribution roughly aligning with the center of the histogram. \n",
    "# However, there are some discrepancies between the distribution and the data, particularly in the tails of the distribution. \n",
    "# The tails of the distribution are thinner than the tails of the histogram, \n",
    "# indicating that extreme values are less likely than I might expect based on a normal distribution."
   ]
  },
  {
   "cell_type": "markdown",
   "id": "d87c7dc3",
   "metadata": {},
   "source": [
    "# 7. Create two scatter plots comparing two variables and provide your analysis on correlation and causation. Remember, covariance, Pearson’s correlation, and Non-Linear Relationships should also be considered during your analysis "
   ]
  },
  {
   "cell_type": "code",
   "execution_count": 90,
   "id": "f0d67dc2",
   "metadata": {},
   "outputs": [
    {
     "data": {
      "image/png": "[encoded data removed]",
      "text/plain": [
       "<Figure size 640x480 with 1 Axes>"
      ]
     },
     "metadata": {},
     "output_type": "display_data"
    }
   ],
   "source": [
    "# Create scatter plots for each variable pair\n",
    "\n",
    "# Interest rate Vs. stock market index scatter plot\n",
    "plt.scatter(interest_rate, stock_market, color='g')\n",
    "plt.xlabel('Interest Rate')\n",
    "plt.ylabel('Stock Market Index')\n",
    "plt.title('Relationship Between Interest Rates and Stock Market Index')\n",
    "plt.show()"
   ]
  },
  {
   "cell_type": "code",
   "execution_count": 91,
   "id": "5b95e886",
   "metadata": {},
   "outputs": [
    {
     "data": {
      "image/png": "[encoded data removed]",
      "text/plain": [
       "<Figure size 640x480 with 1 Axes>"
      ]
     },
     "metadata": {},
     "output_type": "display_data"
    }
   ],
   "source": [
    "# Apple stock price Vs. Toyota stock price\n",
    "\n",
    "plt.scatter(apple_stock, toyota_stock, color='gold')\n",
    "plt.xlabel('Apple Stock Price')\n",
    "plt.ylabel('Toyota Stock Price')\n",
    "plt.title('Relationship Between Apple Stock Price and Toyota Stock Price')\n",
    "plt.show()"
   ]
  },
  {
   "cell_type": "code",
   "execution_count": 92,
   "id": "0be0e413",
   "metadata": {},
   "outputs": [
    {
     "name": "stdout",
     "output_type": "stream",
     "text": [
      "Interest Rate and Stock Market Index: Covariance = -12.90, Pearson's Correlation = -0.01\n",
      "Apple and Toyota Stock Prices: Covariance = 674.44, Pearson's Correlation = 0.73\n"
     ]
    }
   ],
   "source": [
    "# Import few libraries\n",
    "import pandas as pd\n",
    "import numpy as np\n",
    "import matplotlib.pyplot as plt\n",
    "\n",
    "\n",
    "# Subset the data for the variables of interest\n",
    "interest_rate = df_final['daily_rate']\n",
    "stock_market = df_final['spx_closePrice']\n",
    "apple_stock = df_final['aapl_closePrice']\n",
    "toyota_stock = df_final['toyota_closePrice']\n",
    "\n",
    "# Calculate the covariance and Pearson's correlation coefficients for the two pairs of variables.\n",
    "# This line calculates the covariance between the interest_rate and stock_market variables using the cov() function from NumPy. \n",
    "# The cov() function returns a covariance matrix, and I select the value at index [0][1] to obtain the covariance between the two variables.\n",
    "interest_stock_cov = np.cov(interest_rate, stock_market)[0][1]\n",
    "# This line calculates the Pearson's correlation coefficient between the interest_rate and stock_market variables \n",
    "# using the corrcoef() function from NumPy. \n",
    "# The corrcoef() function returns a correlation matrix, and I select the value at index [0][1] to obtain the correlation coefficient between the two variables.\n",
    "interest_stock_corr = np.corrcoef(interest_rate, stock_market)[0][1]\n",
    "# This line calculates the covariance between the apple_stock and toyota_stock variables in the same way as explained above.\n",
    "apple_toyota_cov = np.cov(apple_stock, toyota_stock)[0][1]\n",
    "# This line calculates the Pearson's correlation coefficient between the apple_stock and \n",
    "# toyota_stock variables in the same way as explained above.\n",
    "apple_toyota_corr = np.corrcoef(apple_stock, toyota_stock)[0][1]\n",
    "\n",
    "# Print the covariance and Pearson's correlation coefficients\n",
    "print(f'Interest Rate and Stock Market Index: Covariance = {interest_stock_cov:.2f}, Pearson\\'s Correlation = {interest_stock_corr:.2f}')\n",
    "print(f'Apple and Toyota Stock Prices: Covariance = {apple_toyota_cov:.2f}, Pearson\\'s Correlation = {apple_toyota_corr:.2f}')"
   ]
  },
  {
   "cell_type": "code",
   "execution_count": 93,
   "id": "3168fdf9",
   "metadata": {},
   "outputs": [],
   "source": [
    "# Covariance measures the linear relationship between two variables and provides information about \n",
    "# the direction and magnitude of their association. A positive covariance indicates a positive relationship, \n",
    "# while a negative covariance indicates a negative relationship.\n",
    "\n",
    "# Pearson's correlation coefficient is a standardized measure of the linear relationship between two variables. \n",
    "# It ranges from -1 to +1, with values closer to +1 indicating a strong positive correlation, \n",
    "# values closer to -1 indicating a strong negative correlation, \n",
    "# and values close to 0 indicating little or no linear correlation.\n",
    "\n",
    "# Creating two scatter plots to compare two pairs of variables: \n",
    "# interest rate and stock market index, and Apple stock price and Toyota stock price. \n",
    "# The scatter plots plot each observation as a point in a two-dimensional space, \n",
    "# with one variable plotted on the x-axis and the other variable plotted on the y-axis.\n",
    "\n",
    "# Analyzing the scatter plots, I can gain insights into the correlation and potential causation between the two variables. \n",
    "# In the first scatter plot, I can see that there is a weak negative correlation between interest rates and the stock market index. \n",
    "# As interest rates increase, the stock market index tends to decrease slightly. \n",
    "# However, the correlation is not very strong, indicating that there are other factors at play that are influencing the stock market index.\n",
    "\n",
    "# In the second scatter plot, I can see that there is a strong positive correlation between Apple and Toyota stock prices. \n",
    "# As Apple stock prices increase, Toyota stock prices tend to increase as well. \n",
    "# This correlation could be indicative of a causal relationship between the two variables, \n",
    "# as changes in Apple stock prices may be influencing changes in Toyota stock prices. \n",
    "# However, it's important to note that correlation does not necessarily imply causation, \n",
    "# and there may be other factors at play that are influencing the relationship between the two variables.\n",
    "\n",
    "# Overall, analyzing scatter plots can be a useful tool for gaining insights into the relationship between \n",
    "# two variables and identifying any patterns or trends in the data. \n",
    "# Analyzing the scatter plots, I can make informed decisions about how to model and analyze the variables \n",
    "# and gain a further understanding of their relationship."
   ]
  },
  {
   "cell_type": "markdown",
   "id": "e9018ae3",
   "metadata": {},
   "source": [
    "# 8. Conduct a test on your hypothesis "
   ]
  },
  {
   "cell_type": "code",
   "execution_count": 94,
   "id": "19cd1f43",
   "metadata": {},
   "outputs": [
    {
     "name": "stdout",
     "output_type": "stream",
     "text": [
      "Two-sample t-test: t-statistic = -2.32, p-value = 0.0204\n"
     ]
    }
   ],
   "source": [
    "# Import few libraries\n",
    "import pandas as pd\n",
    "import numpy as np\n",
    "from scipy.stats import ttest_ind\n",
    "\n",
    "# Subset the data for the variables of interest: Interest rate and Stock market index\n",
    "interest_rate = df_final['daily_rate']\n",
    "stock_market = df_final['spx_point_change']\n",
    "\n",
    "# Conduct a two-sample t-test to compare the mean interest rate for days with positive and negative stock market returns\n",
    "# This line creates a boolean mask.\n",
    "positive_returns = stock_market > 0\n",
    "# This line uses the boolean mask positive_returns to select the corresponding interest rate values for the days with positive stock market returns. \n",
    "# It creates a subset of the interest_rate variable containing only those values.\n",
    "interest_rate_positive = interest_rate[positive_returns]\n",
    "# This line uses the negation of the boolean mask positive_returns (~positive_returns) to select the interest rate values for the days with negative stock market returns. \n",
    "# It creates a subset of the interest_rate variable containing only those values.\n",
    "interest_rate_negative = interest_rate[~positive_returns]\n",
    "# This line conducts a two-sample t-test using the ttest_ind() function from the SciPy library. \n",
    "# It compares the mean interest rates for the days with positive stock market returns (interest_rate_positive) \n",
    "# and the days with negative stock market returns (interest_rate_negative). \n",
    "# The equal_var=False argument is used to indicate that the two groups have unequal variances. \n",
    "# The function returns the t-statistic (t_stat) and the p-value (p_value) associated with the hypothesis test.\n",
    "t_stat, p_value = ttest_ind(interest_rate_positive, interest_rate_negative, equal_var=False)\n",
    "\n",
    "# Print the results of the hypothesis test\n",
    "print(f'Two-sample t-test: t-statistic = {t_stat:.2f}, p-value = {p_value:.4f}')"
   ]
  },
  {
   "cell_type": "code",
   "execution_count": 95,
   "id": "614cbed2",
   "metadata": {},
   "outputs": [],
   "source": [
    "# Conducting a two-sample t-test to compare the mean interest rate for days with positive and negative stock market returns. \n",
    "# I first subset the data for the two variables of interest, interest rates and the stock market index. \n",
    "# I then create a binary variable to indicate whether the stock market return for each day is positive or negative, \n",
    "# and subset the interest rate data accordingly.\n",
    "\n",
    "# I then conduct the t-test using SciPy's ttest_ind function, \n",
    "# which returns the t-statistic and p-value for the hypothesis test. \n",
    "# The null hypothesis for this test is that there is no difference in the mean interest rate for days \n",
    "# with positive and negative stock market returns, \n",
    "# while the alternative hypothesis is that there is a difference.\n",
    "\n",
    "# The results of the test show that the t-statistic is negative, \n",
    "# indicating that the mean interest rate for days with positive stock market returns is lower than the mean interest rate for days with negative stock market returns. \n",
    "# The p-value is also statistically significant, \n",
    "# indicating that I can reject the null hypothesis and conclude that there is a difference in the mean interest rate for days with positive and negative stock market returns.\n",
    "\n",
    "# Overall, this hypothesis test provides evidence for a relationship between interest rates and the stock market index, \n",
    "# and suggests that changes in interest rates may be influencing changes in the stock market index."
   ]
  },
  {
   "cell_type": "markdown",
   "id": "3137d5e0",
   "metadata": {},
   "source": [
    "# 9. conduct a regression analysis on either one dependent and one explanatory variable, or multiple explanatory variables "
   ]
  },
  {
   "cell_type": "code",
   "execution_count": 96,
   "id": "8dccd8ed",
   "metadata": {},
   "outputs": [],
   "source": [
    "# For this question and based on the final dataset, I would conduct a regression analysis by asking\n",
    "# can I predict the stock prices of Apple and Toyota companies using interest rates and stock market index data?"
   ]
  },
  {
   "cell_type": "code",
   "execution_count": 97,
   "id": "72eb98c3",
   "metadata": {},
   "outputs": [],
   "source": [
    "# Answer: Yes I sure can but cannot guarantee accuracy. :) "
   ]
  },
  {
   "cell_type": "code",
   "execution_count": 98,
   "id": "d2886d99",
   "metadata": {},
   "outputs": [
    {
     "name": "stdout",
     "output_type": "stream",
     "text": [
      "Predicted Stock Prices for Apple:\n",
      "[ 68.64616044  83.94321654 128.76721232 155.34581995  68.08754404\n",
      "  95.41793611  93.16175698 151.52809991  61.12355179 128.28772242\n",
      "  67.10578039  43.29514604 125.36275386 143.22696553  63.63416937\n",
      "  62.69784638 136.42373543  65.87990862 129.11001023 148.58466066\n",
      " 147.53643367 155.57973911  47.51972461  61.67241594 123.73130035\n",
      " 174.16159677 143.21685278 103.81085541 156.75159473 173.06808317\n",
      "  86.25464258 130.79047912  87.54223576 107.53083533  70.51896364\n",
      "  86.53489647  88.71694194 109.45640011 166.41172133 169.18907843\n",
      "  93.84536298  98.4684882  140.29485706 106.81197923 151.78932253\n",
      " 175.92466366  67.85845098  86.709543    66.43907608 129.5868719\n",
      " 177.44067657 155.88657389 152.58559956  67.07591381 148.17979196\n",
      " 129.51177111  73.27191866 151.2388465  174.67857275 145.88141498\n",
      " 143.49535663 180.46291043 109.55146278  69.14498811 135.08949308\n",
      " 144.13341717  88.66785193 129.43811863  85.97713761  62.90742857\n",
      " 133.0381685   73.92732872 146.91760927 137.53821297  72.35899887\n",
      " 155.78690269  88.6489477   15.37758112  90.84301635 122.71142176\n",
      " 171.65736953 155.4433171  157.27414002 135.66055668  73.31165502\n",
      "  48.30948744  90.59769177  62.24282526 184.17154368  78.23747337\n",
      " 157.29129897  66.26776447  64.76811807 143.8076448   85.93348034\n",
      "  50.10103771  60.12460855 162.82789981  63.56288468  98.97595172\n",
      "  66.18370545  64.77173408 162.44697265  61.03545752  67.242628\n",
      " 145.15985125  57.19499969 133.4795498  151.29544325 147.05971811\n",
      " 168.86482425  83.35793825  91.97179752 159.76071124 147.19818395\n",
      " 176.36776641 156.27413119  72.89481872 118.81383835  75.67911405\n",
      " 157.91996615  56.96586375 158.39908126 157.6759787  113.37589235\n",
      "  52.46080261  95.35736922 159.71853245 156.81684003  47.36317399\n",
      "  84.91196288 138.56884589  90.17672335  97.04627227 136.32430403\n",
      "  89.02439448  67.12328872  70.5077456  121.18008727  26.78265012\n",
      "  64.27894738  76.78153347 157.06528197 165.92110074  79.28244326\n",
      "  87.47085103  79.84774221 140.29829838  94.83047266 176.61949087\n",
      "  64.67932506 177.73295364 147.97010178  94.97901313 165.78172495\n",
      "  62.19304286 166.00389249 119.62044251  60.17767029 143.88682849\n",
      " 133.7993336   70.46399782 122.07412666  72.34797299  57.01969411\n",
      " 168.4738971   70.05990091 138.51357357 137.87024545  68.75720054\n",
      " 146.26609948  69.34417964  92.38691712 152.18861239 152.34531388\n",
      "  88.5825447   55.88025867  31.90096    165.66796927  66.81247109\n",
      " 148.02306188  82.55834059  68.65239515  93.17389291 120.04772822\n",
      "  57.36919839  73.43881707 153.8655669  154.4455252  152.55669852\n",
      "  66.27793121 162.1161328  146.56934208 139.40533251  85.86347404\n",
      " 131.07643413 155.99962606  69.63379831 162.53240851  63.67512059\n",
      "  90.70577491  66.73239174 153.80656265 137.81648974  66.97457515\n",
      " 141.17865825  62.73529117  99.07019494  63.7115252   50.72629215\n",
      "  97.73645124  61.06641034  91.24339403 125.65323166  64.0282107\n",
      "  72.24578789 136.3935973  154.80074967  76.75335499 143.91429869]\n",
      "\n",
      "Predicted Stock Prices for Toyota:\n",
      "[124.67748852 133.53274603 161.33609405 149.0659055  133.09551245\n",
      " 145.81750611 137.78905584 171.66912236 121.75278386 145.39459844\n",
      " 123.6197218  121.73425149 159.73222717 168.03421662 122.79671588\n",
      " 122.5217115  140.94064479 132.03764833 147.29129066 164.74725621\n",
      " 169.79736536 173.56823963 111.5398158  118.70647612 159.08937868\n",
      " 181.58900395 144.34404479 149.64644068 171.16117667 181.14085054\n",
      " 134.5365234  139.33434862 134.97178079 151.44497017 127.05343646\n",
      " 134.61365951 142.70972633 152.37415082 170.19205875 178.91474253\n",
      " 138.25307943 147.25991733 149.19866273 151.06630222 155.4569248\n",
      " 181.93686601 130.20147817 134.69333503 124.27921682 148.01602517\n",
      " 183.18639036 149.41403999 149.93684376 121.17160643 144.83303887\n",
      " 161.72648783 135.56211361 153.17705047 181.31766821 169.09304765\n",
      " 168.10594081 182.94217069 152.36680083 133.6793662  140.23051287\n",
      " 158.15188534 142.78876806 161.64216829 141.51051846 118.86415303\n",
      " 154.00305454 135.75968121 169.71792557 141.85482903 125.81341897\n",
      " 157.12850564 135.62882958 109.15013197 143.67966296 158.52266268\n",
      " 172.48373937 173.50600253 174.34124244 144.34564691 126.34946741\n",
      " 124.12328177 143.61846194 130.53052978 184.98911642 137.72601275\n",
      " 149.75057852 132.31602917 122.14750831 142.22979869 141.54132011\n",
      " 112.76815545 117.49316535 176.87492376 123.42353611 147.49142731\n",
      " 124.26415124 122.04772089 176.70114095 129.97971642 124.79796094\n",
      " 158.3158437  116.20736673 154.05226153 148.43532769 145.89432461\n",
      " 171.05759638 140.36633179 144.24534287 175.47564135 169.69377096\n",
      " 175.19057395 157.70581398 126.26073956 156.74454575 129.45826775\n",
      " 164.64432242 128.12312663 149.44446334 174.37240969 154.11154424\n",
      " 126.01715369 138.89215341 175.45639897 150.14274804 122.62647467\n",
      " 141.07529353 165.90913538 143.37569336 146.61108805 164.83443417\n",
      " 142.95142637 124.13489467 124.96885853 138.14525881 114.25180258\n",
      " 121.97506224 130.01192116 150.0532156  174.22859006 131.20358001\n",
      " 142.09052853 131.51219365 147.07005401 138.75321495 182.60888298\n",
      " 122.25915566 183.21829303 170.19808329 145.61726501 172.3898565\n",
      " 118.74111721 173.30270823 142.962054   117.61880973 168.28453422\n",
      " 140.60558135 125.86183407 137.18372802 125.96054447 116.12739055\n",
      " 175.29176447 134.04604012 145.8500962  142.46277246 124.62670905\n",
      " 159.32771072 133.71952085 137.79059586 156.50130005 172.04194363\n",
      " 135.54781732 127.67858117 116.73898287 177.25765842 123.08016281\n",
      " 146.18165615 139.84939164 124.37602161 144.79375093 157.25674024\n",
      " 128.30713197 135.58753581 172.78621695 173.05079979 166.35646585\n",
      " 124.10426382 176.55020846 152.77120575 166.24003049 134.05375712\n",
      " 138.65330754 149.76992677 125.83811845 160.56090331 121.95318306\n",
      " 143.66777056 121.06560673 147.6536212  141.93106315 124.82782814\n",
      " 167.09975814 130.70447916 147.53442202 123.79565866 112.90124722\n",
      " 146.87523613 122.08174513 143.96375638 159.91546462 120.28839888\n",
      " 135.09398238 141.07905109 173.21285678 129.94834732 144.81438228]\n"
     ]
    }
   ],
   "source": [
    "# Import few libraries\n",
    "import pandas as pd\n",
    "from sklearn.linear_model import LinearRegression\n",
    "from sklearn.model_selection import train_test_split\n",
    "\n",
    "df_final.head()\n",
    "\n",
    "# Subset the data for the variables of interest\n",
    "interest_rate = df_final['daily_rate']\n",
    "stock_market = df_final['spx_closePrice']\n",
    "apple_stock = df_final['aapl_closePrice']\n",
    "toyota_stock = df_final['toyota_closePrice']\n",
    "\n",
    "# Prepare the data for regression\n",
    "X = pd.DataFrame({'Interest Rate': interest_rate, 'Stock Market Index': stock_market})\n",
    "y_apple = apple_stock\n",
    "y_toyota = toyota_stock\n",
    "\n",
    "# Split the data into training and testing sets\n",
    "X_train, X_test, y_train_apple, y_test_apple, y_train_toyota, y_test_toyota = train_test_split(X, y_apple, y_toyota, test_size=0.2, random_state=45)\n",
    "\n",
    "# Create a Linear Regression model\n",
    "model_apple = LinearRegression()\n",
    "model_toyota = LinearRegression()\n",
    "\n",
    "# Fit the model to the training data\n",
    "model_apple.fit(X_train, y_train_apple)\n",
    "model_toyota.fit(X_train, y_train_toyota)\n",
    "\n",
    "# Predict the stock prices on the test data\n",
    "y_pred_apple = model_apple.predict(X_test)\n",
    "y_pred_toyota = model_toyota.predict(X_test)\n",
    "\n",
    "# Print the predicted stock prices for Apple and Toyota\n",
    "print(\"Predicted Stock Prices for Apple:\")\n",
    "print(y_pred_apple)\n",
    "\n",
    "print(\"\\nPredicted Stock Prices for Toyota:\")\n",
    "print(y_pred_toyota)"
   ]
  },
  {
   "cell_type": "code",
   "execution_count": 99,
   "id": "5e518e12",
   "metadata": {},
   "outputs": [],
   "source": [
    "# loading the data into a pandas dataframe and subset it for the variables of interest: \n",
    "# interest rate, stock market index, apple stock prices, and toyota stock prices. \n",
    "# I then prepare the data for regression by creating the feature matrix X with interest rate and stock market index as independent variables, \n",
    "# and the target variables y_apple and y_toyota as the apple stock prices and toyota stock prices, respectively.\n",
    "\n",
    "# Next, I split the data into training and testing sets using the train_test_split function from scikit-learn. \n",
    "# I then create separate Linear Regression models for predicting apple stock prices (model_apple) \n",
    "# and toyota stock prices (model_toyota).\n",
    "\n",
    "# I fit the models to the training data using the fit method, \n",
    "# and then predict the stock prices on the test data using the predict method.\n",
    "\n",
    "# The resulting y_pred_apple and y_pred_toyota are the predicted stock prices for Apple and Toyota companies, respectively, \n",
    "# based on the interest rates and stock market index."
   ]
  },
  {
   "cell_type": "code",
   "execution_count": null,
   "id": "3c79d9b9",
   "metadata": {},
   "outputs": [],
   "source": []
  }
 ],
 "metadata": {
  "kernelspec": {
   "display_name": "Python 3 (ipykernel)",
   "language": "python",
   "name": "python3"
  },
  "language_info": {
   "codemirror_mode": {
    "name": "ipython",
    "version": 3
   },
   "file_extension": ".py",
   "mimetype": "text/x-python",
   "name": "python",
   "nbconvert_exporter": "python",
   "pygments_lexer": "ipython3",
   "version": "3.9.13"
  }
 },
 "nbformat": 4,
 "nbformat_minor": 5
}
