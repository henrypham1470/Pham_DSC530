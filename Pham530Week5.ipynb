{
 "cells": [
  {
   "cell_type": "markdown",
   "id": "3f08a46a",
   "metadata": {},
   "source": [
    "# Week 5 Assignment\n",
    "# Henry Pham\n",
    "# Department of Data Science, Bellevue University\n",
    "# DSC530-T301\n",
    "# Professor: Cary Jim\n",
    "# Assignment Due Date: 2023-04-16"
   ]
  },
  {
   "cell_type": "code",
   "execution_count": 1,
   "id": "e88437f0",
   "metadata": {},
   "outputs": [],
   "source": [
    "#----Chapter 05----"
   ]
  },
  {
   "cell_type": "code",
   "execution_count": 1,
   "id": "bb783af7",
   "metadata": {},
   "outputs": [],
   "source": [
    "# Exercise 5-1"
   ]
  },
  {
   "cell_type": "markdown",
   "id": "4940ae40",
   "metadata": {},
   "source": [
    "#  In the BRFSS (see Section 5.4), the distribution of heights is roughly normal with parameters µ = 178 cm and σ = 7.7 cm for men, and µ = 163 cm and σ = 7.3 cm for women.\n",
    "\n",
    "In order to join Blue Man Group, you have to be male between 5’10” and 6’1” (see http://bluemancasting.com). What percentage of the U.S. male population is in this range? Hint: use scipy.stats.norm.cdf"
   ]
  },
  {
   "cell_type": "code",
   "execution_count": 2,
   "id": "e903958e",
   "metadata": {},
   "outputs": [
    {
     "name": "stdout",
     "output_type": "stream",
     "text": [
      "34.27% of U.S. males are between 5'10\" and 6'1\" and eligible to join Blue Man Group.\n"
     ]
    }
   ],
   "source": [
    "# Import scipy library\n",
    "import scipy.stats\n",
    "\n",
    "# Convert heights to centimeters\n",
    "# convert the heights of 5'10\" and 6'1\" to centimeters using the conversion factor of 2.54 cm/inch.\n",
    "h1 = (5 * 12 + 10) * 2.54  # 5'10\" in cm\n",
    "h2 = (6 * 12 + 1) * 2.54  # 6'1\" in cm\n",
    "\n",
    "# Compute the CDF of the normal distribution for male heights\n",
    "mu_m = 178\n",
    "sigma_m = 7.7\n",
    "\n",
    "# probability of being shorter than 5'10\"\n",
    "p1 = scipy.stats.norm.cdf(h1, loc=mu_m, scale=sigma_m) \n",
    "\n",
    "# probability of being shorter than 6'1\"\n",
    "p2 = scipy.stats.norm.cdf(h2, loc=mu_m, scale=sigma_m)  \n",
    "\n",
    "# Compute the probability of being between 5'10\" and 6'1\" by subtracting the probability of \n",
    "# being shorter than 5'10\" from the probability of being shorter than 6'1\". \n",
    "# Multiply this probability by 100 to obtain the percentage of males in the desired height range.\n",
    "p_male = p2 - p1\n",
    "pct_male = p_male * 100\n",
    "\n",
    "# Print out\n",
    "print(f\"{pct_male:.2f}% of U.S. males are between 5'10\\\" and 6'1\\\" and eligible to join Blue Man Group.\")"
   ]
  },
  {
   "cell_type": "code",
   "execution_count": 4,
   "id": "cb570682",
   "metadata": {},
   "outputs": [],
   "source": [
    "# Exercise 5-2"
   ]
  },
  {
   "cell_type": "markdown",
   "id": "0814f166",
   "metadata": {},
   "source": [
    "# To get a feel for the Pareto distribution, let’s see how different the world would be if the distribution of human height were Pareto. With the parameters xm = 1 m and α = 1.7, we get a distribution with a reasonable minimum, 1 m, and median, 1.5 m.\n",
    "\n",
    "Plot this distribution. What is the mean human height in Pareto world? What fraction of the population is shorter than the mean? If there are 7 billion people in Pareto world, how many do we expect to be taller than 1 km? How tall do we expect the tallest person to be?"
   ]
  },
  {
   "cell_type": "code",
   "execution_count": 6,
   "id": "ac023791",
   "metadata": {},
   "outputs": [
    {
     "name": "stdout",
     "output_type": "stream",
     "text": [
      "Mean human height in Pareto world: 2.43 m\n",
      "Fraction of population shorter than mean: 77.87%\n",
      "Number of people taller than 1 km: 55603\n",
      "Expected height of tallest person: 618349.61 m\n"
     ]
    }
   ],
   "source": [
    "import scipy.stats\n",
    "import thinkplot\n",
    "import numpy as np\n",
    "\n",
    "\n",
    "# Compute the mean human height and fraction shorter than the mean\n",
    "mean_height = dist.mean()\n",
    "frac_shorter = dist.cdf(mean_height)\n",
    "\n",
    "# Compute the number of people taller than 1 km in Pareto world\n",
    "taller_than_1km = (1 - dist.cdf(1000)) * 7e9\n",
    "\n",
    "# Compute the expected height of the tallest person in Pareto world\n",
    "tallest_height = dist.ppf(1 - 1/7e9)\n",
    "\n",
    "# Print out\n",
    "print(f\"Mean human height in Pareto world: {mean_height:.2f} m\")\n",
    "print(f\"Fraction of population shorter than mean: {frac_shorter:.2%}\")\n",
    "print(f\"Number of people taller than 1 km: {taller_than_1km:.0f}\")\n",
    "print(f\"Expected height of tallest person: {tallest_height:.2f} m\")"
   ]
  },
  {
   "cell_type": "code",
   "execution_count": 11,
   "id": "dcab87c5",
   "metadata": {},
   "outputs": [],
   "source": [
    "#----Chapter 06----"
   ]
  },
  {
   "cell_type": "code",
   "execution_count": 12,
   "id": "badb9330",
   "metadata": {},
   "outputs": [],
   "source": [
    "# Exercise 6-1"
   ]
  },
  {
   "cell_type": "markdown",
   "id": "20d20666",
   "metadata": {},
   "source": [
    "# The distribution of income is famously skewed to the right. In this exercise, we’ll measure how strong that skew is. The Current Population Survey (CPS) is a joint effort of the Bureau of Labor Statistics and the Census Bureau to study income and related variables. Data collected in 2013 is available from http://www.census.gov/hhes/www/cpstables/032013/hhinc/toc.htm. I downloaded hinc06.xls, which is an Excel spreadsheet with information about household income, and converted it to hinc06.csv, a CSV file you will find in the repository for this book. You will also find hinc2.py, which reads this file and transforms the data.\n",
    "\n",
    "The dataset is in the form of a series of income ranges and the number of respondents who fell in each range. The lowest range includes respondents who reported annual household income “Under  5000.”𝑇ℎ𝑒ℎ𝑖𝑔ℎ𝑒𝑠𝑡𝑟𝑎𝑛𝑔𝑒𝑖𝑛𝑐𝑙𝑢𝑑𝑒𝑠𝑟𝑒𝑠𝑝𝑜𝑛𝑑𝑒𝑛𝑡𝑠𝑤ℎ𝑜𝑚𝑎𝑑𝑒“\n",
    " 250,000 or more.”\n",
    "\n",
    "To estimate mean and other statistics from these data, we have to make some assumptions about the lower and upper bounds, and how the values are distributed in each range. hinc2.py provides InterpolateSample, which shows one way to model this data. It takes a DataFrame with a column, income, that contains the upper bound of each range, and freq, which contains the number of respondents in each frame.\n",
    "\n",
    "It also takes log_upper, which is an assumed upper bound on the highest range, expressed in log10 dollars. The default value, log_upper=6.0 represents the assumption that the largest income among the respondents is  106\n",
    " , or one million dollars.\n",
    "\n",
    "InterpolateSample generates a pseudo-sample; that is, a sample of household incomes that yields the same number of respondents in each range as the actual data. It assumes that incomes in each range are equally spaced on a log10 scale.\n",
    "\n",
    "Compute the median, mean, skewness and Pearson’s skewness of the resulting sample. What fraction of households report a taxable income below the mean? How do the results depend on the assumed upper bound?"
   ]
  },
  {
   "cell_type": "code",
   "execution_count": 7,
   "id": "e257f3cc",
   "metadata": {},
   "outputs": [],
   "source": [
    "# import library os, basename and exists\n",
    "from os.path import basename, exists\n",
    "# Create a function download to load the thinkstats2.py and thinkploy.py from github\n",
    "def download(url):\n",
    "    # Create a variable filename and assign it to the base url parameter\n",
    "    filename = basename(url)\n",
    "    if not exists(filename):\n",
    "        # if filename is not existed, then import urllib and urlretrieve\n",
    "        from urllib.request import urlretrieve\n",
    "        # Create a local variable and assign url+filename to local\n",
    "        local, _ = urlretrieve(url, filename)\n",
    "        print(\"Downloaded \" + local)\n",
    "\n",
    "# Call the download function to download hinc.py, and hinc06.csv to DSC530 folder\n",
    "download(\"https://github.com/AllenDowney/ThinkStats2/raw/master/code/hinc.py\")\n",
    "download(\"https://github.com/AllenDowney/ThinkStats2/raw/master/code/hinc2.py\")\n",
    "download(\"https://github.com/AllenDowney/ThinkStats2/raw/master/code/hinc06.csv\")\n"
   ]
  },
  {
   "cell_type": "code",
   "execution_count": 13,
   "id": "41e67072",
   "metadata": {},
   "outputs": [],
   "source": [
    "# Create a function of InterpolateSample with 2 arguments df and log_upper.\n",
    "def InterpolateSample(df, log_upper=6.0):\n",
    "    \"\"\"Makes a sample of log10 household income.\n",
    "\n",
    "    Assumes that log10 income is uniform in each range.\n",
    "\n",
    "    df: DataFrame with columns income and freq\n",
    "    log_upper: log10 of the assumed upper bound for the highest range\n",
    "\n",
    "    returns: NumPy array of log10 household income\n",
    "    \"\"\"\n",
    "    # compute the log10 of the upper bound for each range\n",
    "    df['log_upper'] = np.log10(df.income)\n",
    "\n",
    "    # get the lower bounds by shifting the upper bound and filling in\n",
    "    # the first element\n",
    "    df['log_lower'] = df.log_upper.shift(1)\n",
    "    df.loc[0, 'log_lower'] = 3.0\n",
    "\n",
    "    # plug in a value for the unknown upper bound of the highest range\n",
    "    df.loc[41, 'log_upper'] = log_upper\n",
    "    \n",
    "    # use the freq column to generate the right number of values in\n",
    "    # each range\n",
    "    arrays = []\n",
    "    for _, row in df.iterrows():\n",
    "        vals = np.linspace(row.log_lower, row.log_upper, int(row.freq))\n",
    "        arrays.append(vals)\n",
    "\n",
    "    # collect the arrays into a single sample\n",
    "    log_sample = np.concatenate(arrays)\n",
    "    return log_sample"
   ]
  },
  {
   "cell_type": "code",
   "execution_count": 14,
   "id": "f162030a",
   "metadata": {},
   "outputs": [],
   "source": [
    "# Import hinc and read data\n",
    "import hinc\n",
    "income_df = hinc.ReadData()"
   ]
  },
  {
   "cell_type": "code",
   "execution_count": 15,
   "id": "eff13219",
   "metadata": {},
   "outputs": [],
   "source": [
    "# Call a function InterpolateSample and assign it to log_sample\n",
    "log_sample = InterpolateSample(income_df, log_upper=6.0)"
   ]
  },
  {
   "cell_type": "code",
   "execution_count": 16,
   "id": "ce4f0b4e",
   "metadata": {},
   "outputs": [
    {
     "data": {
      "image/png": "[encoded data removed]",
      "text/plain": [
       "<Figure size 640x480 with 1 Axes>"
      ]
     },
     "metadata": {},
     "output_type": "display_data"
    }
   ],
   "source": [
    "# Import thinkstats2\n",
    "import thinkstats2\n",
    "\n",
    "# The thinkstats2.Cdf() function takes in a sample of values and returns a Cdf object that represents \n",
    "# the cumulative distribution function of the values. In this case, passing in log_sample\n",
    "# Then using thinkplot.Cdf() to plot the CDF\n",
    "# using thinkplot.Config() to set the labels for the x and y axes.\n",
    "log_cdf = thinkstats2.Cdf(log_sample)\n",
    "thinkplot.Cdf(log_cdf)\n",
    "thinkplot.Config(xlabel='Household income (log $)',\n",
    "               ylabel='CDF')"
   ]
  },
  {
   "cell_type": "code",
   "execution_count": 17,
   "id": "db76616a",
   "metadata": {},
   "outputs": [],
   "source": [
    "# Generate a sample of incomes\n",
    "sample = np.power(10, log_sample)"
   ]
  },
  {
   "cell_type": "code",
   "execution_count": 18,
   "id": "5b2be266",
   "metadata": {},
   "outputs": [
    {
     "data": {
      "image/png": "[encoded data removed]",
      "text/plain": [
       "<Figure size 640x480 with 1 Axes>"
      ]
     },
     "metadata": {},
     "output_type": "display_data"
    }
   ],
   "source": [
    "# The thinkstats2.Cdf() function takes in a sample of values and returns a Cdf object that represents \n",
    "# the cumulative distribution function of the values. In this case, passing in sample\n",
    "# Then using thinkplot.Cdf() to plot the CDF\n",
    "# using thinkplot.Config() to set the labels for the x and y axes.\n",
    "cdf = thinkstats2.Cdf(sample)\n",
    "thinkplot.Cdf(cdf)\n",
    "thinkplot.Config(xlabel='Household income ($)',\n",
    "               ylabel='CDF')"
   ]
  },
  {
   "cell_type": "code",
   "execution_count": 19,
   "id": "2d7a1a8e",
   "metadata": {},
   "outputs": [
    {
     "name": "stdout",
     "output_type": "stream",
     "text": [
      "Mean: 74278.7075311872\n",
      "Median: 51226.93306562372\n",
      "Skewness: 4.949920244429583\n",
      "Pearson skewness: 0.7361105192428792\n",
      "Fraction below the mean: 0.660005879566872\n"
     ]
    }
   ],
   "source": [
    "import hinc2\n",
    "import hinc\n",
    "import numpy as np\n",
    "import thinkstats2\n",
    "\n",
    "# Compute various statistics\n",
    "mean = np.mean(sample)\n",
    "median = np.median(sample)\n",
    "skewness = thinkstats2.Skewness(sample)\n",
    "pearson_skewness = 3 * (mean - median) / np.std(sample)\n",
    "cdf = thinkstats2.Cdf(sample)\n",
    "\n",
    "# Print out\n",
    "print('Mean:', mean)\n",
    "print('Median:', median)\n",
    "print('Skewness:', skewness)\n",
    "print('Pearson skewness:', pearson_skewness)\n",
    "print('Fraction below the mean:', cdf[mean])"
   ]
  },
  {
   "cell_type": "code",
   "execution_count": null,
   "id": "f4a02faf",
   "metadata": {},
   "outputs": [],
   "source": [
    "# These results indicate that the distribution of household incomes is highly skewed to the right. \n",
    "# The mean is substantially higher than the median, which indicates that the distribution is skewed. \n",
    "# The skewness and Pearson’s skewness are both positive, which confirms that the distribution is skewed to the right. \n",
    "# Additionally, the fraction of households reporting a taxable income below the mean is about 66%, \n",
    "# which indicates that the majority of households earn below the average income."
   ]
  }
 ],
 "metadata": {
  "kernelspec": {
   "display_name": "Python 3 (ipykernel)",
   "language": "python",
   "name": "python3"
  },
  "language_info": {
   "codemirror_mode": {
    "name": "ipython",
    "version": 3
   },
   "file_extension": ".py",
   "mimetype": "text/x-python",
   "name": "python",
   "nbconvert_exporter": "python",
   "pygments_lexer": "ipython3",
   "version": "3.9.13"
  }
 },
 "nbformat": 4,
 "nbformat_minor": 5
}
